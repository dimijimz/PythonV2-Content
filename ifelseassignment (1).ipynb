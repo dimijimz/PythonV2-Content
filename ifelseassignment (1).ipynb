{
 "cells": [
  {
   "cell_type": "markdown",
   "metadata": {},
   "source": [
    "Here’s a new assignment on **Conditional Statements**, based on the provided lecture:\n",
    "\n",
    "---\n",
    "\n",
    "# Mastering Python Conditional Statements Assignment\n",
    "\n",
    "## Exercise 1: Basic Decision Making\n",
    "\n",
    "Understanding the core of conditional statements is crucial for decision-making in Python.\n",
    "\n",
    "- **Task 1.1:** Write a program to check if a number is positive, negative, or zero.\n",
    "  - **Input:** Any integer.\n",
    "  - **Output:** A string stating whether the number is \"positive\", \"negative\", or \"zero\".\n",
    "  \n",
    "```python\n",
    "# Task 1.1\n",
    "\n",
    "```\n",
    "\n",
    "## Exercise 2: Logical Operators\n",
    "\n",
    "Logical operators like `and`, `or`, and `not` help in combining conditions for complex decision-making.\n",
    "\n",
    "- **Task 2.1:** Create a program that determines if a year is a leap year using logical operators.\n",
    "  - **Input:** A year.\n",
    "  - **Output:** `True` if the year is a leap year, `False` otherwise.\n",
    "  \n",
    "```python\n",
    "# Task 2.1\n",
    "\n",
    "```\n",
    "\n",
    "## Exercise 3: Nested Conditional Statements\n",
    "\n",
    "Nesting allows deeper decision-making processes by layering conditions within conditions.\n",
    "\n",
    "- **Task 3.1:** Write a program that categorizes a person’s life stage as follows: \n",
    "  - **Child** (under 18)\n",
    "  - **Adult** (18-64)\n",
    "  - **Senior** (65 and older).\n",
    "  - **Input:** Age as an integer.\n",
    "  - **Output:** A string representing the life stage.\n",
    "  \n",
    "```python\n",
    "# Task 3.1\n",
    "\n",
    "```\n",
    "\n",
    "## Exercise 4: Complex Decision Making\n",
    "\n",
    "Use conditional statements to create more complex decision-making systems.\n",
    "\n",
    "- **Task 4.1:** Write a program that asks for the temperature in Fahrenheit and Celsius, and the unit to which you want to convert. It should then convert the temperature.\n",
    "  - **Input:** Temperature and the target unit (`\"Celsius\"` or `\"Fahrenheit\"`).\n",
    "  - **Output:** The converted temperature.\n",
    "  \n",
    "```python\n",
    "# Task 4.1\n",
    "\n",
    "```\n",
    "\n",
    "## Exercise 5: Grading System\n",
    "\n",
    "Implement a decision-making structure for a grading system.\n",
    "\n",
    "- **Task 5.1:** Write a program to convert a percentage score to a letter grade.\n",
    "  - **A:** 90–100\n",
    "  - **B:** 80–89\n",
    "  - **C:** 70–79\n",
    "  - **D:** 60–69\n",
    "  - **F:** Below 60\n",
    "  - **Input:** Score as a percentage.\n",
    "  - **Output:** The corresponding grade.\n",
    "  \n",
    "```python\n",
    "# Task 5.1\n",
    "\n",
    "```\n"
   ]
  },
  {
   "cell_type": "code",
   "execution_count": 22,
   "metadata": {},
   "outputs": [
    {
     "name": "stdout",
     "output_type": "stream",
     "text": [
      "30.00 celsius is equal to 86.00 fahrenheit\n"
     ]
    }
   ],
   "source": [
    "# **Task 4.1:** Write a program that asks for the temperature in Fahrenheit and Celsius, and the unit to which you want to convert. It should then convert the temperature.\n",
    "  # **Input:** Temperature and the target unit (`\"Celsius\"` or `\"Fahrenheit\"`).\n",
    "  # **Output:** The converted temperature.\n",
    "temp = float(input(\"Enter the temperature: \"))\n",
    "current_unit = input(\"Enter the current unit (Celsius or Fahrenheit): \")\n",
    "target_unit = input(\"Enter the unit to which you want to convert (Celsius or Fahrenheit): \")\n",
    "\n",
    "if current_unit.lower() == target_unit.lower():\n",
    "    converted_temp = temp\n",
    "elif current_unit.lower() in [\"celsius\", \"c\"] and target_unit.lower() in [\"fahrenheit\", \"f\"]:\n",
    "    converted_temp = (temp * 9/5) + 32\n",
    "elif current_unit.lower() in [\"fahrenheit\", \"f\"] and target_unit.lower() in [\"celsius\", \"c\"]:\n",
    "    converted_temp = (temp - 32) * 5/9\n",
    "else:\n",
    "    print(\"Invalid input\")\n",
    "    exit()\n",
    "\n",
    "print(f\"{temp:.2f} {current_unit} is equal to {converted_temp:.2f} {target_unit}\")"
   ]
  },
  {
   "cell_type": "code",
   "execution_count": 25,
   "metadata": {},
   "outputs": [
    {
     "name": "stdout",
     "output_type": "stream",
     "text": [
      "Your grade is F\n"
     ]
    }
   ],
   "source": [
    "#Implement a decision-making structure for a grading system.\n",
    "\n",
    "#- **Task 5.1:** Write a program to convert a percentage score to a letter grade.\n",
    "#  - **A:** 90–100\n",
    "#  - **B:** 80–89\n",
    "#  - **C:** 70–79\n",
    "#  - **D:** 60–69\n",
    "#  - **F:** Below 60\n",
    "#  - **Input:** Score as a percentage.\n",
    "#  - **Output:** The corresponding grade\n",
    "\n",
    "letter_grade = input(\"Enter your percentage score: \")\n",
    "if int(letter_grade) >= 90:\n",
    "    print(\"Your grade is A\")\n",
    "elif int(letter_grade) >= 80:\n",
    "    print(\"Your grade is B\")\n",
    "elif int(letter_grade) >= 70:\n",
    "    print(\"Your grade is C\")\n",
    "elif int(letter_grade) >= 60:\n",
    "    print(\"Your grade is D\")\n",
    "else:\n",
    "    print(\"Your grade is F\")\n"
   ]
  }
 ],
 "metadata": {
  "kernelspec": {
   "display_name": "Python 3",
   "language": "python",
   "name": "python3"
  },
  "language_info": {
   "codemirror_mode": {
    "name": "ipython",
    "version": 3
   },
   "file_extension": ".py",
   "mimetype": "text/x-python",
   "name": "python",
   "nbconvert_exporter": "python",
   "pygments_lexer": "ipython3",
   "version": "3.11.9"
  }
 },
 "nbformat": 4,
 "nbformat_minor": 2
}
