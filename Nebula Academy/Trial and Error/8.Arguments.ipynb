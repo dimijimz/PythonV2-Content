{
 "cells": [
  {
   "cell_type": "code",
   "execution_count": 14,
   "metadata": {},
   "outputs": [
    {
     "name": "stdout",
     "output_type": "stream",
     "text": [
      "Username: Zelda_123, age: 1000, money: 10000\n",
      "Username: Link_333, age: 30, money: 3000\n",
      "Username: Ganondorf_666, age: 300, money: 0\n"
     ]
    }
   ],
   "source": [
    "# When creating a function you can create unlimited arguments and give them default values. \n",
    "# The default values will only be used if the argument is not provided.\n",
    "# This is useful for when you want to create a function that can be called with different arguments and default values. \n",
    "def create_user(username, age=0, money=0):\n",
    "    print(f\"Username: {username}, age: {age}, money: {money}\")\n",
    "\n",
    "create_user(\"Zelda_123\", 1000, 10000)\n",
    "create_user(\"Link_333\", 30, 3000)\n",
    "# You can also call the argument in the function to override the default order.\n",
    "# You also can leave these arguments out and they will be set to their default values.\n",
    "create_user(age=300, username=\"Ganondorf_666\")"
   ]
  },
  {
   "cell_type": "code",
   "execution_count": 21,
   "metadata": {},
   "outputs": [
    {
     "name": "stdout",
     "output_type": "stream",
     "text": [
      "Total of (1, 2, 3, 4, 366, 123, 888, -211) is: 1176\n",
      "Total of (200, 55, 2000) is: 2255\n"
     ]
    }
   ],
   "source": [
    "# another important argument\n",
    "\n",
    "# this is small scale - we want large scale\n",
    "#def add_numbers(a , b, c)\n",
    "\n",
    "# this is large scale\n",
    "# Putting an asterisk in front of a variable name tells the program we can insert any number of arguments. The computer will store them in a list.\n",
    "def add_numbers(*numbers):\n",
    "    total = 0\n",
    "\n",
    "    for number in numbers:\n",
    "        total += number\n",
    "    print(f\"Total of {numbers} is: {total}\")\n",
    "\n",
    "add_numbers(1, 2, 3, 4, 366,123,888,-211)\n",
    "add_numbers(200, 55, 2000)"
   ]
  }
 ],
 "metadata": {
  "kernelspec": {
   "display_name": "Python 3",
   "language": "python",
   "name": "python3"
  },
  "language_info": {
   "codemirror_mode": {
    "name": "ipython",
    "version": 3
   },
   "file_extension": ".py",
   "mimetype": "text/x-python",
   "name": "python",
   "nbconvert_exporter": "python",
   "pygments_lexer": "ipython3",
   "version": "3.11.9"
  }
 },
 "nbformat": 4,
 "nbformat_minor": 2
}
