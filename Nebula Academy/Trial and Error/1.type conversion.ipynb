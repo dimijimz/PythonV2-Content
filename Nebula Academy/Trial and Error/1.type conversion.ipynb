{
 "cells": [
  {
   "cell_type": "code",
   "execution_count": 8,
   "metadata": {},
   "outputs": [
    {
     "name": "stdout",
     "output_type": "stream",
     "text": [
      "You have: 230dollars\n",
      "210\n"
     ]
    }
   ],
   "source": [
    "# Uses int() and str()\n",
    "wallet = 30\n",
    "bank = 200\n",
    "\n",
    "total = wallet + bank\n",
    "\n",
    "total = str(total)\n",
    "print('You have: ' + total + 'dollars')\n",
    "\n",
    "print(int(total) - 20)"
   ]
  },
  {
   "cell_type": "code",
   "execution_count": 38,
   "metadata": {},
   "outputs": [
    {
     "name": "stdout",
     "output_type": "stream",
     "text": [
      "20\n"
     ]
    }
   ],
   "source": [
    "# Uses int()\n",
    "random_number = '10'\n",
    "answer = 10 + int(random_number)\n",
    "print(answer)"
   ]
  },
  {
   "cell_type": "code",
   "execution_count": 37,
   "metadata": {},
   "outputs": [
    {
     "name": "stdout",
     "output_type": "stream",
     "text": [
      "You have: $80\n",
      "You are poor!\n",
      "You must have less than $100!\n"
     ]
    }
   ],
   "source": [
    "# Simple Money Game\n",
    "# Uses if and elifstatements as well as formatted strings\n",
    "\n",
    "money = int(input('Enter a number: '))\n",
    "\n",
    "print(f'You have: ${money}')\n",
    "if money > 1000:\n",
    "    print('You are rich!')\n",
    "    print('You must have more than $1000!')\n",
    "\n",
    "if money < 100:\n",
    "    print('You are poor!')\n",
    "    print('You must have less than $100!')\n",
    "\n",
    "elif money < 999:\n",
    "    print('You are neither rich nor poor!')\n",
    "    print('You must have between $100 and $999.')   "
   ]
  },
  {
   "cell_type": "code",
   "execution_count": null,
   "metadata": {},
   "outputs": [],
   "source": []
  }
 ],
 "metadata": {
  "kernelspec": {
   "display_name": "Python 3",
   "language": "python",
   "name": "python3"
  },
  "language_info": {
   "codemirror_mode": {
    "name": "ipython",
    "version": 3
   },
   "file_extension": ".py",
   "mimetype": "text/x-python",
   "name": "python",
   "nbconvert_exporter": "python",
   "pygments_lexer": "ipython3",
   "version": "3.11.9"
  }
 },
 "nbformat": 4,
 "nbformat_minor": 2
}
