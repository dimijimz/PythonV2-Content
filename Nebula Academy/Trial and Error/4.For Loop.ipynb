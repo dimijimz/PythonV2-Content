{
 "cells": [
  {
   "cell_type": "code",
   "execution_count": 6,
   "metadata": {},
   "outputs": [
    {
     "name": "stdout",
     "output_type": "stream",
     "text": [
      "1\n",
      "2\n",
      "3\n",
      "4\n",
      "5\n"
     ]
    }
   ],
   "source": [
    "numbers = range(5)\n",
    "\n",
    "for number in numbers:\n",
    "    print(number + 1)\n",
    "    "
   ]
  },
  {
   "cell_type": "code",
   "execution_count": null,
   "metadata": {},
   "outputs": [],
   "source": [
    "#adjust the range(x) to change the number of loops\n",
    "numbers = range(100)\n",
    "\n",
    "#loop through the numbers and print each number\n",
    "for number in numbers:\n",
    "    print(f\"{number + 1}: Item\")"
   ]
  },
  {
   "cell_type": "code",
   "execution_count": 8,
   "metadata": {},
   "outputs": [
    {
     "name": "stdout",
     "output_type": "stream",
     "text": [
      "- milk\n",
      "- eggs\n",
      "- sugar\n",
      "- flour\n"
     ]
    }
   ],
   "source": [
    "shopping_list = [\"milk\", \"eggs\", \"sugar\", \"flour\"]\n",
    "\n",
    "for ingredient in shopping_list:\n",
    "    print(\"-\", ingredient)"
   ]
  },
  {
   "cell_type": "code",
   "execution_count": 11,
   "metadata": {},
   "outputs": [
    {
     "name": "stdout",
     "output_type": "stream",
     "text": [
      "1 milk\n",
      "2 eggs\n",
      "3 sugar\n",
      "4 flour\n",
      "5 salt\n"
     ]
    }
   ],
   "source": [
    "#shortcut to index items using 'enumerate()'\n",
    "\n",
    "shopping_list = [\"milk\", \"eggs\", \"sugar\", \"flour\", \"salt\"]\n",
    "\n",
    "for i, ingredient in enumerate(shopping_list):\n",
    "    print(i + 1, ingredient)"
   ]
  },
  {
   "cell_type": "code",
   "execution_count": 14,
   "metadata": {},
   "outputs": [
    {
     "name": "stdout",
     "output_type": "stream",
     "text": [
      "There is sugar in the list!\n"
     ]
    }
   ],
   "source": [
    "#check if there is something in the list\n",
    "\n",
    "shopping_list = [\"milk\", \"eggs\", \"sugar\", \"flour\", \"salt\"]\n",
    "\n",
    "for ingredient in shopping_list:\n",
    "    if ingredient == \"sugar\":\n",
    "        print(\"There is sugar in the list!\")\n",
    "        break\n",
    "else:\n",
    "    print(\"Not found!\")"
   ]
  }
 ],
 "metadata": {
  "kernelspec": {
   "display_name": "Python 3",
   "language": "python",
   "name": "python3"
  },
  "language_info": {
   "codemirror_mode": {
    "name": "ipython",
    "version": 3
   },
   "file_extension": ".py",
   "mimetype": "text/x-python",
   "name": "python",
   "nbconvert_exporter": "python",
   "pygments_lexer": "ipython3",
   "version": "3.11.9"
  }
 },
 "nbformat": 4,
 "nbformat_minor": 2
}
