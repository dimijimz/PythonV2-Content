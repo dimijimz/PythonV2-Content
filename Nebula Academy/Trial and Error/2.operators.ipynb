{
 "cells": [
  {
   "cell_type": "code",
   "execution_count": 29,
   "metadata": {},
   "outputs": [
    {
     "name": "stdout",
     "output_type": "stream",
     "text": [
      "13\n",
      "Modulus = 1\n",
      "Floor Division = 3\n",
      "Exponental power = 1000\n",
      "Result: True\n",
      "Result: True\n",
      "Result: False\n",
      "Result: True\n",
      "Result: True\n",
      "Result for logical operator: True\n",
      "Result for logical operator: False\n",
      "Result for logical operator: True\n",
      "Result for not operator: True\n"
     ]
    }
   ],
   "source": [
    "# Operators\n",
    "# Runs like normal algebra - most math in python\n",
    "result = 10 + 3\n",
    "print(result)\n",
    "\n",
    "# Special Arithmetic Operators\n",
    "# % = Modulus - fits the second number into the first number and returns the remainder\n",
    "result = 10 % 3\n",
    "print(f\"Modulus = {result}\")\n",
    "\n",
    "# // = Floor Division - rounds down to the nearest whole number\n",
    "result = 10 // 3\n",
    "print(f\"Floor Division = {result}\")\n",
    "\n",
    "# ** = Exponental power - raises the first number to the power of the second number\n",
    "result = 10 ** 3\n",
    "print(f\"Exponental power = {result}\")\n",
    "\n",
    "# Comparison Operators - For larger statements\n",
    "\n",
    "#boolean = True or false\n",
    "boolean = 10 > 5\n",
    "print(\"Result:\" , boolean)\n",
    "\n",
    "#another boolean example showing comparison of strings\n",
    "boolean = \"banana\" == \"banana\"\n",
    "print(\"Result:\" , boolean)\n",
    "\n",
    "#another boolean example showing operators for equal to and less than or equal to and greater than.\n",
    "\n",
    "#less than or equal to\n",
    "boolean = 10 <= 5\n",
    "print(\"Result:\" , boolean)\n",
    "\n",
    "#greater than or equal to\n",
    "boolean = 10 >= 5\n",
    "print(\"Result:\" , boolean)\n",
    "\n",
    "#greater than or equal to\n",
    "boolean = 10 >= 10\n",
    "print(\"Result:\" , boolean)\n",
    "\n",
    "# Logical Operators\n",
    "\n",
    "#both of these must be true to show true (because of the 'and' operator)\n",
    "boolean = \"text\" == \"text\" and 10 > 5\n",
    "print(\"Result for logical operator:\" , boolean)\n",
    "\n",
    "# this one will show false because the last one isnt true even though the first two are\n",
    "boolean = \"text\" == \"text\" and 10 > 5 and 10 < 5\n",
    "print(\"Result for logical operator:\" , boolean)\n",
    "\n",
    "# this one will show true because the last one is true even though the first one is not true\n",
    "# this is because of the 'or' operator\n",
    "boolean = \"text\" == \"text\" or 10 < 5\n",
    "print(\"Result for logical operator:\" , boolean)\n",
    "\n",
    "# 'not' operator\n",
    "is_connect = False\n",
    "\n",
    "boolean = not is_connect\n",
    "print(\"Result for not operator:\", boolean)"
   ]
  },
  {
   "cell_type": "code",
   "execution_count": null,
   "metadata": {},
   "outputs": [],
   "source": []
  }
 ],
 "metadata": {
  "kernelspec": {
   "display_name": "Python 3",
   "language": "python",
   "name": "python3"
  },
  "language_info": {
   "codemirror_mode": {
    "name": "ipython",
    "version": 3
   },
   "file_extension": ".py",
   "mimetype": "text/x-python",
   "name": "python",
   "nbconvert_exporter": "python",
   "pygments_lexer": "ipython3",
   "version": "3.11.9"
  }
 },
 "nbformat": 4,
 "nbformat_minor": 2
}
