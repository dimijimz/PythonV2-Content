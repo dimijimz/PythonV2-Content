{
 "cells": [
  {
   "cell_type": "markdown",
   "metadata": {},
   "source": [
    "Your task is to sort a given string. Each word in the string will contain a single number. This number is the position the word should have in the result.\n",
    "\n",
    "Note: Numbers can be from 1 to 9. So 1 will be the first word (not 0).\n",
    "\n",
    "If the input string is empty, return an empty string. The words in the input String will only contain valid consecutive numbers.\n",
    "\n",
    "Examples\n",
    "\"is2 Thi1s T4est 3a\"  -->  \"Thi1s is2 3a T4est\"\n",
    "\"4of Fo1r pe6ople g3ood th5e the2\"  -->  \"Fo1r the2 g3ood 4of th5e pe6ople\"\n",
    "\"\"  -->  \"\""
   ]
  },
  {
   "cell_type": "code",
   "execution_count": null,
   "metadata": {},
   "outputs": [],
   "source": [
    "def order(sentence):\n",
    "    sorted_sentence = {}\n",
    "    final_sentence = ''\n",
    "    for word in sentence.split(): # [is2, Thi1s, T4est, 3a] 4\n",
    "        for char in word: # is2 -> [i, s, 2] \n",
    "            if char >= '1' and char <= '9':\n",
    "                position = int(char)\n",
    "                sorted_sentence[position] = word\n",
    "    ''' sorted_sentence = {\n",
    "        2: 'is2'\n",
    "        1: 'Thi1s'\n",
    "        4: 'T4est'\n",
    "        3: 3a\n",
    "    }'''\n",
    "    total_words = len(sentence.split())\n",
    "    for position in range(total_words): # 0,1,2,3 -> You want: 1 to 4 (postiion + 1)\n",
    "        final_sentence = final_sentence + sorted_sentence[position + 1]\n",
    "        if position < total_words - 1:\n",
    "            final_sentence += ' '\n",
    "\n",
    "    return final_sentence"
   ]
  }
 ],
 "metadata": {
  "kernelspec": {
   "display_name": "Python 3",
   "language": "python",
   "name": "python3"
  },
  "language_info": {
   "name": "python",
   "version": "3.11.9"
  }
 },
 "nbformat": 4,
 "nbformat_minor": 2
}
