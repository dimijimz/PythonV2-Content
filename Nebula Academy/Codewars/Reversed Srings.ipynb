{
 "cells": [
  {
   "cell_type": "markdown",
   "metadata": {},
   "source": [
    "Complete the solution so that it reverses the string passed into it.\n",
    "\n",
    "'world'  =>  'dlrow'\n",
    "'word'   =>  'drow'"
   ]
  },
  {
   "cell_type": "code",
   "execution_count": null,
   "metadata": {
    "vscode": {
     "languageId": "plaintext"
    }
   },
   "outputs": [],
   "source": [
    "def solution(string):\n",
    "    return string[::-1]\n",
    "pass\n",
    "\n",
    "# Explanation of string[::-1]:\n",
    "# string[start:stop:step] is the general slicing syntax in Python\n",
    "# - `start`: The starting index (default is the beginning of the string)\n",
    "# - `stop`: The stopping index (default is the end of the string)\n",
    "# - `step`: The step value (if it's -1, it steps backward, effectively reversing the string)\n",
    "# So, string[::-1] means:\n",
    "# - Start from the end of the string (because of -1)\n",
    "# - Move backwards through the string (again, because of -1)\n",
    "# - Return the reversed string"
   ]
  },
  {
   "cell_type": "code",
   "execution_count": null,
   "metadata": {},
   "outputs": [],
   "source": []
  }
 ],
 "metadata": {
  "language_info": {
   "name": "python"
  }
 },
 "nbformat": 4,
 "nbformat_minor": 2
}
