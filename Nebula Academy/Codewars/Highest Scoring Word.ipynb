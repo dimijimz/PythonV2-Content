{
 "cells": [
  {
   "cell_type": "markdown",
   "metadata": {},
   "source": [
    "Given a string of words, you need to find the highest scoring word.\n",
    "\n",
    "Each letter of a word scores points according to its position in the alphabet: a = 1, b = 2, c = 3 etc.\n",
    "\n",
    "For example, the score of abad is 8 (1 + 2 + 1 + 4).\n",
    "\n",
    "You need to return the highest scoring word as a string.\n",
    "\n",
    "If two words score the same, return the word that appears earliest in the original string.\n",
    "\n",
    "All letters will be lowercase and all inputs will be valid."
   ]
  },
  {
   "cell_type": "code",
   "execution_count": 1,
   "metadata": {},
   "outputs": [],
   "source": [
    "def high(x):\n",
    "    words = x.split()  \n",
    "    highest_score = 0\n",
    "    highest_word = \"\"\n",
    "\n",
    "    for word in words:\n",
    "        score = sum(ord(l) - 96 for l in word)  \n",
    "\n",
    "        if score > highest_score:\n",
    "            highest_score = score\n",
    "            highest_word = word\n",
    "    \n",
    "    return highest_word\n"
   ]
  }
 ],
 "metadata": {
  "kernelspec": {
   "display_name": "Python 3",
   "language": "python",
   "name": "python3"
  },
  "language_info": {
   "codemirror_mode": {
    "name": "ipython",
    "version": 3
   },
   "file_extension": ".py",
   "mimetype": "text/x-python",
   "name": "python",
   "nbconvert_exporter": "python",
   "pygments_lexer": "ipython3",
   "version": "3.11.9"
  }
 },
 "nbformat": 4,
 "nbformat_minor": 2
}
