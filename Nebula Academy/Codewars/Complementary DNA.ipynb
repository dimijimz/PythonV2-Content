{
 "cells": [
  {
   "cell_type": "markdown",
   "metadata": {},
   "source": [
    "Deoxyribonucleic acid (DNA) is a chemical found in the nucleus of cells and carries the \"instructions\" for the development and functioning of living organisms.\n",
    "\n",
    "If you want to know more: http://en.wikipedia.org/wiki/DNA\n",
    "\n",
    "In DNA strings, symbols \"A\" and \"T\" are complements of each other, as \"C\" and \"G\". Your function receives one side of the DNA (string, except for Haskell); you need to return the other complementary side. DNA strand is never empty or there is no DNA at all (again, except for Haskell).\n",
    "\n",
    "More similar exercise are found here: http://rosalind.info/problems/list-view/ (source)\n",
    "\n",
    "Example: (input --> output)\n",
    "\n",
    "\"ATTGC\" --> \"TAACG\"\n",
    "\"GTAT\" --> \"CATA\""
   ]
  },
  {
   "cell_type": "code",
   "execution_count": null,
   "metadata": {},
   "outputs": [],
   "source": [
    "def DNA_strand(dna):\n",
    "    complementary = {\"A\" : \"T\", \"T\" : \"A\", \"C\" : \"G\", \"G\" : \"C\"}\n",
    "    result = []\n",
    "\n",
    "    for i in dna:\n",
    "        result.append(complementary[i])\n",
    "\n",
    "    return ''.join(result)"
   ]
  }
 ],
 "metadata": {
  "kernelspec": {
   "display_name": "Python 3",
   "language": "python",
   "name": "python3"
  },
  "language_info": {
   "name": "python",
   "version": "3.11.9"
  }
 },
 "nbformat": 4,
 "nbformat_minor": 2
}
