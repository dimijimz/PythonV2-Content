{
 "cells": [
  {
   "cell_type": "markdown",
   "metadata": {},
   "source": [
    "You live in the city of Cartesia where all roads are laid out in a perfect grid. You arrived ten minutes too early to an appointment, so you decided to take the opportunity to go for a short walk. The city provides its citizens with a Walk Generating App on their phones -- everytime you press the button it sends you an array of one-letter strings representing directions to walk (eg. ['n', 's', 'w', 'e']). You always walk only a single block for each letter (direction) and you know it takes you one minute to traverse one city block, so create a function that will return true if the walk the app gives you will take you exactly ten minutes (you don't want to be early or late!) and will, of course, return you to your starting point. Return false otherwise.\n",
    "\n",
    "Note: you will always receive a valid array containing a random assortment of direction letters ('n', 's', 'e', or 'w' only). It will never give you an empty array (that's not a walk, that's standing still!)."
   ]
  },
  {
   "cell_type": "code",
   "execution_count": null,
   "metadata": {},
   "outputs": [],
   "source": [
    "def is_valid_walk(walk):\n",
    "    if len(walk) == 10:\n",
    "        x = 0\n",
    "        y = 0\n",
    "        for direction in walk:\n",
    "            if direction == \"n\":\n",
    "                y += 1\n",
    "            elif direction == \"s\":\n",
    "                y -= 1\n",
    "            elif direction == \"w\":\n",
    "                x -= 1\n",
    "            else: #no need to call for \"e\" as we know no other direction (or letter) is called for\n",
    "                x += 1\n",
    "        if x == 0 and y == 0:\n",
    "            return True\n",
    "    return False\n",
    "    pass"
   ]
  }
 ],
 "metadata": {
  "kernelspec": {
   "display_name": "Python 3",
   "language": "python",
   "name": "python3"
  },
  "language_info": {
   "name": "python",
   "version": "3.11.9"
  }
 },
 "nbformat": 4,
 "nbformat_minor": 2
}
