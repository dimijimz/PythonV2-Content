{
 "cells": [
  {
   "cell_type": "code",
   "execution_count": 1,
   "metadata": {},
   "outputs": [
    {
     "name": "stdout",
     "output_type": "stream",
     "text": [
      "Before change: Favorite Food: Chicken Nuggets Quantity: 5 Price 8.99\n",
      "After change: Favorite Food: Tacos Quantity: 10 Price: 6.99\n"
     ]
    }
   ],
   "source": [
    "#Variables-Homework\n",
    "\n",
    "## Homework\n",
    "# Write a script that:\n",
    "# - Declares a string variable `favorite_food`, an integer variable `quantity`, and a float variable `price`.\n",
    "# - Changes `favorite_food` to a different food item.\n",
    "# - Prints all variables before and after the change.\n",
    "\n",
    "# Declares a string variable `favorite_food`, an integer variable `quantity`, and a float variable `price`\n",
    "\n",
    "favorite_food = \"Chicken Nuggets\"\n",
    "quantity = 5\n",
    "price = 8.99  \n",
    "\n",
    "# Prints initial values\n",
    "print(\"Before change:\" , \"Favorite Food:\" , favorite_food ,\"Quantity:\" ,  quantity, \"Price\" , price)\n",
    "\n",
    "# Changes favorite food to a different food\n",
    "favorite_food = \"Tacos\"\n",
    "quantity = 10\n",
    "price = 6.99\n",
    "\n",
    "# Prints value after the change\n",
    "print(\"After change:\",\"Favorite Food:\" , favorite_food , \"Quantity:\", quantity, \"Price:\" , price) "
   ]
  }
 ],
 "metadata": {
  "kernelspec": {
   "display_name": "Python 3",
   "language": "python",
   "name": "python3"
  },
  "language_info": {
   "codemirror_mode": {
    "name": "ipython",
    "version": 3
   },
   "file_extension": ".py",
   "mimetype": "text/x-python",
   "name": "python",
   "nbconvert_exporter": "python",
   "pygments_lexer": "ipython3",
   "version": "3.11.9"
  }
 },
 "nbformat": 4,
 "nbformat_minor": 2
}
