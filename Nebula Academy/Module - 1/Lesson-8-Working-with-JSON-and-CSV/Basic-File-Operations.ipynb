{
 "cells": [
  {
   "cell_type": "code",
   "execution_count": null,
   "metadata": {
    "vscode": {
     "languageId": "plaintext"
    }
   },
   "outputs": [],
   "source": []
  },
  {
   "cell_type": "markdown",
   "metadata": {},
   "source": [
    "Basic File Operations in Python\n",
    "\n",
    "## Objectives\n",
    "In this lecture, you'll learn how to handle files in Python, which is essential for any data processing or storage operation.\n",
    "\n",
    "### 1. File I/O Basics\n",
    "File Input/Output (I/O) operations are fundamental in Python for reading from and writing to files. The basic workflow involves opening a file, performing operations (read or write), and then closing it.\n",
    "\n",
    "#### Opening and Closing Files\n",
    "- Use `open()` to open a file. It takes two parameters: the file path and the mode (`'r'` for read, `'w'` for write, `'a'` for append).\n",
    "- Always close the file using `close()` to free up system resources.\n",
    "  \n",
    "  ```python\n",
    "  file = open('example.txt', 'r')\n",
    "  content = file.read()\n",
    "  file.close()\n",
    "  ```\n",
    "\n",
    "### 2. Using the `with` Statement\n",
    "The `with` statement simplifies file handling by automatically closing the file. This is especially useful in cases where an exception might occur.\n",
    "\n",
    "  ```python\n",
    "  with open('example.txt', 'r') as file:\n",
    "      content = file.read()\n",
    "  print(content)\n",
    "  ```\n",
    "\n",
    "### 3. Checking File Existence\n",
    "To prevent errors, before operating on a file, it's a good practice to check if it exists. Use the `os.path.exists()` function from the `os` module.\n",
    "\n",
    "  ```python\n",
    "  import os\n",
    "  if os.path.exists('example.txt'):\n",
    "      print('File exists')\n",
    "  else:\n",
    "      print('File does not exist')\n",
    "  ```\n",
    "\n",
    "### 4. Directory Management\n",
    "Creating and deleting directories is handled by `os.mkdir()` and `os.rmdir()` functions.\n",
    "\n",
    "  ```python\n",
    "  import os\n",
    "  os.mkdir('new_directory')\n",
    "  os.rmdir('new_directory')\n",
    "  ```\n",
    "\n",
    "#### Practice Exercises\n",
    "1. Create a Python script to write and read a list of your favorite movies to a file.\n",
    "2. Write a script to check if a file named `notes.txt` exists. If it does, append a new note; if not, create and add a note.\n",
    "\n",
    "#### Homework\n",
    "1. Develop a Python script that reads a file and counts the number of words in it.\n",
    "2. Create a program that lists all the files in a given directory and prints their file sizes.\n"
   ]
  }
 ],
 "metadata": {
  "language_info": {
   "name": "python"
  }
 },
 "nbformat": 4,
 "nbformat_minor": 2
}
