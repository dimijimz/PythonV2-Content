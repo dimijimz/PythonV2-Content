{
 "cells": [
  {
   "cell_type": "markdown",
   "metadata": {},
   "source": [
    "Modules and Importing in Python\n",
    "\n",
    "## Objectives\n",
    "\n",
    "* Gain an understanding of modules in Python and their practical uses.\n",
    "* Explore the Python Standard Library and its various modules.\n",
    "* Learn about external libraries and their roles in extending Python's capabilities.\n",
    "* Develop skills in creating and utilizing custom modules.\n",
    "* Understand the role of `pip` in managing Python packages.\n",
    "\n",
    "### 1. Understanding Modules\n",
    "\n",
    "Modules in Python are files containing Python code, such as functions, classes, or variables. They help in organizing and reusing code.\n",
    "\n",
    "#### Example\n",
    "\n",
    "Suppose you have a file named `my_module.py` with the following content:\n",
    "\n",
    "```python\n",
    "def say_hello(name):\n",
    "    print(f\"Hello, {name}!\")\n",
    "```\n",
    "\n",
    "You can use this module in another file as follows:\n",
    "\n",
    "```python\n",
    "import my_module\n",
    "my_module.say_hello(\"Alice\")\n",
    "```"
   ]
  },
  {
   "cell_type": "markdown",
   "metadata": {},
   "source": [
    "### 2. Python Standard Library\n",
    "\n",
    "The Python Standard Library is a collection of modules pre-installed with Python. These modules provide functionalities ranging from mathematical operations to file I/O.\n",
    "\n",
    "#### Commonly Used Standard Library Modules:\n",
    "\n",
    "* `math`: Provides mathematical functions.\n",
    "* `datetime`: For manipulating dates and times.\n",
    "* `os`: Interacts with the operating system.\n",
    "* `random`: Generates random numbers.\n",
    "\n",
    "### 3. External Libraries\n",
    "\n",
    "Python's capabilities are significantly extended by external libraries, which can be installed using `pip` .\n",
    "\n",
    "#### Example\n",
    "\n",
    "Using `numpy` , a popular library for numerical operations:\n"
   ]
  },
  {
   "cell_type": "code",
   "execution_count": null,
   "metadata": {},
   "outputs": [],
   "source": [
    "import numpy as np\n",
    "\n",
    "array = np.array([1, 2, 3])\n",
    "print(array)"
   ]
  },
  {
   "cell_type": "markdown",
   "metadata": {},
   "source": [
    "### 4. Creating and Using Custom Modules\n",
    "\n",
    "You can create your own modules by writing Python code in a file and then importing it into your program.\n",
    "\n",
    "#### Example\n",
    "\n",
    "Creating a module `calculator.py` :\n"
   ]
  },
  {
   "cell_type": "code",
   "execution_count": null,
   "metadata": {},
   "outputs": [],
   "source": [
    "def add(a, b):\n",
    "    return a + b"
   ]
  },
  {
   "cell_type": "markdown",
   "metadata": {},
   "source": [
    "Importing and using `calculator.py` :\n",
    "\n",
    "```python\n",
    "import calculator\n",
    "result = calculator.add(3, 5)\n",
    "print(result)\n",
    "```\n"
   ]
  },
  {
   "cell_type": "markdown",
   "metadata": {},
   "source": [
    "### 5. Managing Dependencies with `pip`\n",
    "\n",
    "`pip` is used for installing and managing Python packages. It interfaces with the Python Package Index (PyPI) to download and install packages.\n",
    "\n",
    "#### Example Usage\n",
    "\n",
    "* Install a package: `pip install requests`\n",
    "* List installed packages: `pip list`\n",
    "* Save dependencies: `pip freeze > requirements.txt`\n",
    "* Install dependencies from a file: `pip install -r requirements.txt`\n",
    "\n",
    "### Summary\n",
    "\n",
    "Modules in Python enhance code reuse and organization. The standard library offers essential tools, while external libraries extend Python's capabilities. Understanding how to create custom modules and manage dependencies with `pip` is crucial for Python development.\n"
   ]
  }
 ],
 "metadata": {
  "language_info": {
   "name": "python"
  }
 },
 "nbformat": 4,
 "nbformat_minor": 2
}
