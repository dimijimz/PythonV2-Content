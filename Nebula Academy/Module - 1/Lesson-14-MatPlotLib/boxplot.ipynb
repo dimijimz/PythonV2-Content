{
 "cells": [
  {
   "cell_type": "markdown",
   "metadata": {},
   "source": [
    "Task 1: Load and Examine the Data\n",
    "Load the CSV File: Use Pandas to load the student_scores.csv file. This file includes scores of students across different subjects.\n",
    "Examine the Data: Print the first five rows of the DataFrame. Describe in a few sentences what the data represents."
   ]
  },
  {
   "cell_type": "code",
   "execution_count": null,
   "metadata": {},
   "outputs": [
    {
     "data": {
      "text/plain": [
       "First five rows of the data:\n",
       "  Student  Math  English  Science  History\n",
       "0   Alice    88       92       85       90\n",
       "1     Bob    74       81       78       84\n",
       "2   Chloe    97       89       95       91\n",
       "3   David    64       73       70       75\n",
       "4    Emma    82       88       86       89\n"
      ]
     },
     "metadata": {},
     "output_type": "display_data"
    }
   ],
   "source": [
    "import pandas as pd\n",
    "\n",
    "# Load the CSV file\n",
    "df = pd.read_csv('nebula academy/module - 1/lesson-14-matplotlib/student_scores.csv')\n",
    "\n",
    "# Print the first five rows\n",
    "print(\"First five rows of the data:\")\n",
    "print(df.head())"
   ]
  },
  {
   "cell_type": "markdown",
   "metadata": {},
   "source": [
    "Task 2: Create Basic Box Plots\n",
    "Generate Box Plots: Create a box plot for each subject to visualize the distribution of scores. Use the basic box plot code provided in the lecture.\n",
    "Analysis: Write a short analysis based on the box plots. Which subject has the greatest variability in scores? Which subject has the highest median score?"
   ]
  },
  {
   "cell_type": "code",
   "execution_count": null,
   "metadata": {},
   "outputs": [],
   "source": [
    "import matplotlib.pyplot as plt\n",
    "\n",
    "# Subjects to plot\n",
    "subjects = [\"Math\", \"English\", \"Science\", \"History\"]\n",
    "\n",
    "# Create a basic box plot\n",
    "plt.figure(figsize=(8, 6))\n",
    "plt.boxplot([df[subject] for subject in subjects], labels=subjects)\n",
    "plt.title(\"Basic Box Plot of Scores Across Subjects\")\n",
    "plt.ylabel(\"Scores\")\n",
    "plt.xlabel(\"Subjects\")\n",
    "plt.show()"
   ]
  },
  {
   "cell_type": "markdown",
   "metadata": {},
   "source": [
    "Task 3: Customize Your Box Plot\n",
    "Customize the Box Plot: Improve the appearance of the box plots by adding colors to the boxes, whiskers, caps, and medians. Refer to the customization section of the lecture.\n",
    "Save the Plot: Save the customized box plot to a file using plt.savefig(\"customized_box_plot.png\").\n"
   ]
  },
  {
   "cell_type": "code",
   "execution_count": null,
   "metadata": {},
   "outputs": [
    {
     "data": {
      "text/plain": [
       "Traceback (most recent call last):\n",
       "  File \"/Users/dimijimz/.vscode/extensions/ms-python.python-2024.22.1-darwin-arm64/python_files/python_server.py\", line 133, in exec_user_input\n",
       "    retval = callable_(user_input, user_globals)\n",
       "  File \"<string>\", line 25, in <module>\n",
       "  File \"/Users/dimijimz/Documents/Work/.venv/lib/python3.9/site-packages/matplotlib/pyplot.py\", line 612, in show\n",
       "    return _get_backend_mod().show(*args, **kwargs)\n",
       "  File \"/Users/dimijimz/Documents/Work/.venv/lib/python3.9/site-packages/matplotlib/backend_bases.py\", line 3553, in show\n",
       "    cls.mainloop()\n",
       "  File \"/Users/dimijimz/Documents/Work/.venv/lib/python3.9/site-packages/matplotlib/backends/backend_macosx.py\", line 179, in start_main_loop\n",
       "    _macosx.show()\n",
       "  File \"/Library/Developer/CommandLineTools/Library/Frameworks/Python3.framework/Versions/3.9/lib/python3.9/contextlib.py\", line 124, in __exit__\n",
       "    next(self.gen)\n",
       "  File \"/Users/dimijimz/Documents/Work/.venv/lib/python3.9/site-packages/matplotlib/backend_bases.py\", line 1672, in _allow_interrupt\n",
       "    old_sigint_handler(*handler_args)\n",
       "KeyboardInterrupt\n",
       "\n"
      ]
     },
     "metadata": {},
     "output_type": "display_data"
    }
   ],
   "source": [
    "import matplotlib.pyplot as plt\n",
    "\n",
    "# Subjects to plot\n",
    "subjects = [\"Math\", \"English\", \"Science\", \"History\"]\n",
    "\n",
    "# Create a customized box plot\n",
    "plt.figure(figsize=(8, 6))\n",
    "box = plt.boxplot(\n",
    "    [df[subject] for subject in subjects],\n",
    "    labels=subjects,\n",
    "    patch_artist=True,  # Fill the boxes with color\n",
    "    boxprops=dict(facecolor=\"lightblue\", color=\"blue\"),  # Box color\n",
    "    whiskerprops=dict(color=\"green\"),  # Whisker color\n",
    "    capprops=dict(color=\"red\"),  # Cap color\n",
    "    medianprops=dict(color=\"orange\", linewidth=2)  # Median line color\n",
    ")\n",
    "\n",
    "# Add title and labels\n",
    "plt.title(\"Customized Box Plot of Scores Across Subjects\")\n",
    "plt.ylabel(\"Scores\")\n",
    "plt.xlabel(\"Subjects\")\n",
    "\n",
    "# Save the plot to a file\n",
    "plt.savefig(\"customized_box_plot.png\")\n",
    "plt.show()"
   ]
  },
  {
   "cell_type": "markdown",
   "metadata": {},
   "source": [
    "Task 1: Load and Describe the JSON Data\n",
    "Load the JSON File: Use Python to load the student_data.json file and convert it into a Pandas DataFrame.\n",
    "Examine and Describe the Data: Print the first five rows of the DataFrame and describe in a few sentences what the data shows about student activities."
   ]
  },
  {
   "cell_type": "code",
   "execution_count": null,
   "metadata": {},
   "outputs": [
    {
     "data": {
      "text/plain": [
       "First five rows of the data:\n",
       "  Student  Study  Sports  Leisure  Sleep\n",
       "0   Alice     35       5       15     60\n",
       "1     Bob     20      10       30     60\n",
       "2   Chloe     40       3       10     57\n",
       "3   David     15      20       40     50\n",
       "4    Emma     30       6       20     55\n",
       "\n",
       "Data Description:\n",
       "<class 'pandas.core.frame.DataFrame'>\n",
       "RangeIndex: 5 entries, 0 to 4\n",
       "Data columns (total 5 columns):\n",
       " #   Column   Non-Null Count  Dtype \n",
       "---  ------   --------------  ----- \n",
       " 0   Student  5 non-null      object\n",
       " 1   Study    5 non-null      int64 \n",
       " 2   Sports   5 non-null      int64 \n",
       " 3   Leisure  5 non-null      int64 \n",
       " 4   Sleep    5 non-null      int64 \n",
       "dtypes: int64(4), object(1)\n",
       "memory usage: 328.0+ bytes\n",
       "None\n"
      ]
     },
     "metadata": {},
     "output_type": "display_data"
    }
   ],
   "source": [
    "import pandas as pd\n",
    "import json\n",
    "\n",
    "# Load the JSON file\n",
    "with open('nebula academy/module - 1/lesson-14-matplotlib/student_data.json') as f:\n",
    "    data = json.load(f)\n",
    "\n",
    "# Convert JSON data to a DataFrame\n",
    "df = pd.DataFrame(data)\n",
    "\n",
    "# Print the first five rows\n",
    "print(\"First five rows of the data:\")\n",
    "print(df.head())\n",
    "\n",
    "# Brief description of the data\n",
    "print(\"\\nData Description:\")\n",
    "print(df.info())"
   ]
  },
  {
   "cell_type": "markdown",
   "metadata": {},
   "source": [
    "Task 2: Create a Basic Histogram\n",
    "Generate a Histogram: Using the data from the 'Study' column, create a histogram to visualize the distribution of study hours among students.\n",
    "Interpret the Histogram: Provide a brief analysis of what the histogram shows about student study habits.\n"
   ]
  },
  {
   "cell_type": "code",
   "execution_count": null,
   "metadata": {},
   "outputs": [
    {
     "data": {
      "text/plain": [
       "Traceback (most recent call last):\n",
       "  File \"/Users/dimijimz/.vscode/extensions/ms-python.python-2024.22.1-darwin-arm64/python_files/python_server.py\", line 133, in exec_user_input\n",
       "    retval = callable_(user_input, user_globals)\n",
       "  File \"<string>\", line 9, in <module>\n",
       "  File \"/Users/dimijimz/Documents/Work/.venv/lib/python3.9/site-packages/matplotlib/pyplot.py\", line 612, in show\n",
       "    return _get_backend_mod().show(*args, **kwargs)\n",
       "  File \"/Users/dimijimz/Documents/Work/.venv/lib/python3.9/site-packages/matplotlib/backend_bases.py\", line 3553, in show\n",
       "    cls.mainloop()\n",
       "  File \"/Users/dimijimz/Documents/Work/.venv/lib/python3.9/site-packages/matplotlib/backends/backend_macosx.py\", line 179, in start_main_loop\n",
       "    _macosx.show()\n",
       "  File \"/Library/Developer/CommandLineTools/Library/Frameworks/Python3.framework/Versions/3.9/lib/python3.9/contextlib.py\", line 124, in __exit__\n",
       "    next(self.gen)\n",
       "  File \"/Users/dimijimz/Documents/Work/.venv/lib/python3.9/site-packages/matplotlib/backend_bases.py\", line 1672, in _allow_interrupt\n",
       "    old_sigint_handler(*handler_args)\n",
       "KeyboardInterrupt\n",
       "\n"
      ]
     },
     "metadata": {},
     "output_type": "display_data"
    }
   ],
   "source": [
    "import matplotlib.pyplot as plt\n",
    "\n",
    "# Basic histogram for 'Study'\n",
    "plt.figure(figsize=(8, 6))\n",
    "plt.hist(df['Study'], bins=4, color='skyblue', edgecolor='black')\n",
    "plt.title(\"Distribution of Study Hours\")\n",
    "plt.xlabel(\"Study Hours\")\n",
    "plt.ylabel(\"Number of Students\")\n",
    "plt.show()"
   ]
  },
  {
   "cell_type": "markdown",
   "metadata": {},
   "source": [
    "Task 3: Customize Your Histogram\n",
    "Customize the Histogram: Modify your histogram by adjusting the bin sizes and colors. Create a histogram with custom bin edges that you think better represent the data distribution.\n",
    "Explain Your Choices: Describe why you chose the specific bin sizes and colors, and how these changes affect the interpretation of the data."
   ]
  },
  {
   "cell_type": "code",
   "execution_count": null,
   "metadata": {},
   "outputs": [],
   "source": [
    "import matplotlib.pyplot as plt\n",
    "\n",
    "# Basic histogram for 'Study'\n",
    "plt.figure(figsize=(8, 6))\n",
    "plt.hist(df['Study'], bins=4, color='skyblue', edgecolor='black')\n",
    "plt.title(\"Distribution of Study Hours\")\n",
    "plt.xlabel(\"Study Hours\")\n",
    "plt.ylabel(\"Number of Students\")\n",
    "plt.show()"
   ]
  }
 ],
 "metadata": {
  "language_info": {
   "name": "python"
  }
 },
 "nbformat": 4,
 "nbformat_minor": 2
}
