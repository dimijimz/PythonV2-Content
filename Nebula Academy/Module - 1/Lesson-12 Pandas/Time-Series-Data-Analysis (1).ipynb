{
 "cells": [
  {
   "cell_type": "markdown",
   "metadata": {},
   "source": [
    "# Assignment: Time-Series Data Analysis\n",
    "\n",
    "This assignment will guide you through the process of analyzing a time-series dataset to identify underlying trends, patterns, and seasonal variations using Pandas.\n",
    "\n",
    "#### Setup: Generate the Time-Series Dataset\n",
    "\n",
    "Run the following code in this Jupyter Notebook to generate your synthetic time-series dataset:\n"
   ]
  },
  {
   "cell_type": "code",
   "execution_count": null,
   "metadata": {},
   "outputs": [],
   "source": [
    "import pandas as pd\n",
    "import numpy as np\n",
    "\n",
    "# Seed for reproducibility\n",
    "np.random.seed(0)\n",
    "\n",
    "# Generate a date range\n",
    "dates = pd.date_range(start=\"2020-01-01\", end=\"2020-12-31\", freq=\"D\")\n",
    "\n",
    "# Generate synthetic time-series data\n",
    "data = {\n",
    "    \"Date\": dates,\n",
    "    \"Sales\": np.random.rand(len(dates)) * 200\n",
    "    + np.sin(np.linspace(-3, 3, len(dates))) * 50\n",
    "    + 100,\n",
    "}\n",
    "\n",
    "# Create DataFrame\n",
    "df = pd.DataFrame(data)\n",
    "df.set_index(\"Date\", inplace=True)"
   ]
  },
  {
   "cell_type": "markdown",
   "metadata": {},
   "source": [
    "#### Task 1: Initial Exploration\n",
    "\n",
    "Begin with an initial exploration to understand your dataset's structure and main components.\n",
    "\n",
    "1. **Display the first few rows of the dataset to get an idea of its structure.** Insert your code below:\n"
   ]
  },
  {
   "cell_type": "code",
   "execution_count": null,
   "metadata": {},
   "outputs": [],
   "source": [
    "# INSERT CODE HERE to display the first 5 rows of the dataframe\n",
    "\n",
    "print(data.head())\n"
   ]
  },
  {
   "cell_type": "markdown",
   "metadata": {},
   "source": [
    "2. **Generate a quick statistical summary of the 'Sales' column.** Insert your code below:\n"
   ]
  },
  {
   "cell_type": "code",
   "execution_count": null,
   "metadata": {},
   "outputs": [],
   "source": [
    "# INSERT CODE HERE to generate a statistical summary for 'Sales'\n",
    "\n",
    "print(data['Sales'].describe())"
   ]
  },
  {
   "cell_type": "markdown",
   "metadata": {},
   "source": [
    "#### Task 2: Time-Series Analysis\n",
    "\n",
    "Dive deeper into the time-series data to identify trends and patterns.\n"
   ]
  },
  {
   "cell_type": "markdown",
   "metadata": {},
   "source": [
    "1. **Calculate the monthly average sales.** Insert your code below:\n"
   ]
  },
  {
   "cell_type": "code",
   "execution_count": null,
   "metadata": {},
   "outputs": [],
   "source": [
    "# INSERT CODE HERE to resample the data by month and calculate average sales\n",
    "\n",
    "data['Date'] = pd.to_datetime(data['Date'])  # Ensure 'Date' is in datetime format\n",
    "\n",
    "monthly_avg_sales = data.resample('M', on='Date')['Sales'].mean()\n",
    "\n",
    "print(monthly_avg_sales)"
   ]
  },
  {
   "cell_type": "markdown",
   "metadata": {},
   "source": [
    "2. **Identify any obvious trends in monthly average sales.** (For now, describe the trend in a markdown cell. Later, you'll learn how to visualize these trends for better insight.)\n"
   ]
  },
  {
   "cell_type": "code",
   "execution_count": null,
   "metadata": {},
   "outputs": [],
   "source": [
    "# INSERT YOUR OBSERVATION HERE about any trends in monthly average sales\n",
    "\n",
    "\n",
    "Sales tend to peak mid-year and dip early in the year. Patterns suggest seasonal influences, but overall, sales remain steady.\n"
   ]
  },
  {
   "cell_type": "markdown",
   "metadata": {},
   "source": [
    "3. **Calculate the rolling 7-day average of sales to smooth out any short-term fluctuations.** Insert your code below:\n"
   ]
  },
  {
   "cell_type": "code",
   "execution_count": 2,
   "metadata": {},
   "outputs": [
    {
     "ename": "NameError",
     "evalue": "name 'data' is not defined",
     "output_type": "error",
     "traceback": [
      "\u001b[1;31m---------------------------------------------------------------------------\u001b[0m",
      "\u001b[1;31mNameError\u001b[0m                                 Traceback (most recent call last)",
      "Cell \u001b[1;32mIn[2], line 3\u001b[0m\n\u001b[0;32m      1\u001b[0m \u001b[38;5;66;03m# INSERT CODE HERE to calculate a rolling 7-day average of sales\u001b[39;00m\n\u001b[1;32m----> 3\u001b[0m data[\u001b[38;5;124m'\u001b[39m\u001b[38;5;124m7_day_avg\u001b[39m\u001b[38;5;124m'\u001b[39m] \u001b[38;5;241m=\u001b[39m \u001b[43mdata\u001b[49m[\u001b[38;5;124m'\u001b[39m\u001b[38;5;124mSales\u001b[39m\u001b[38;5;124m'\u001b[39m]\u001b[38;5;241m.\u001b[39mrolling(window\u001b[38;5;241m=\u001b[39m\u001b[38;5;241m7\u001b[39m)\u001b[38;5;241m.\u001b[39mmean()\n\u001b[0;32m      5\u001b[0m \u001b[38;5;28mprint\u001b[39m(data[[\u001b[38;5;124m'\u001b[39m\u001b[38;5;124mDate\u001b[39m\u001b[38;5;124m'\u001b[39m, \u001b[38;5;124m'\u001b[39m\u001b[38;5;124mSales\u001b[39m\u001b[38;5;124m'\u001b[39m, \u001b[38;5;124m'\u001b[39m\u001b[38;5;124m7_day_avg\u001b[39m\u001b[38;5;124m'\u001b[39m]]\u001b[38;5;241m.\u001b[39mhead(\u001b[38;5;241m10\u001b[39m))  \u001b[38;5;66;03m# Display first 10 rows for context\u001b[39;00m\n",
      "\u001b[1;31mNameError\u001b[0m: name 'data' is not defined"
     ]
    }
   ],
   "source": [
    "# INSERT CODE HERE to calculate a rolling 7-day average of sales\n",
    "\n",
    "data['7_day_avg'] = data['Sales'].rolling(window=7).mean()\n",
    "\n",
    "print(data[['Date', 'Sales', '7_day_avg']].head(10))  # Display first 10 rows for context"
   ]
  },
  {
   "cell_type": "markdown",
   "metadata": {},
   "source": [
    "#### Task 3: Insights Reporting\n",
    "\n",
    "Reflect on the analysis performed and answer the following questions in a markdown cell in your Jupyter Notebook:\n",
    "\n",
    "1. What are the overall trends that you can observe in the data?\n",
    "2. Did you notice any seasonal variations in monthly average sales?\n",
    "3. How did the 7-day rolling average compare to the daily sales figures? What does this tell you about the volatility of the sales data?\n"
   ]
  },
  {
   "cell_type": "markdown",
   "metadata": {},
   "source": [
    "1. INSERT YOUR ANSWER HERE\n",
    "2. INSERT YOUR ANSWER HERE\n",
    "3. INSERT YOUR ANSWER HERE\n"
   ]
  }
 ],
 "metadata": {
  "kernelspec": {
   "display_name": "Python 3",
   "language": "python",
   "name": "python3"
  },
  "language_info": {
   "codemirror_mode": {
    "name": "ipython",
    "version": 3
   },
   "file_extension": ".py",
   "mimetype": "text/x-python",
   "name": "python",
   "nbconvert_exporter": "python",
   "pygments_lexer": "ipython3",
   "version": "3.11.9"
  }
 },
 "nbformat": 4,
 "nbformat_minor": 2
}
