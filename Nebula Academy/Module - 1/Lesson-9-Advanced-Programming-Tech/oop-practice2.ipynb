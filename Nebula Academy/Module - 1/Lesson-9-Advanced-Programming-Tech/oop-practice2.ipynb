{
 "cells": [
  {
   "cell_type": "markdown",
   "metadata": {},
   "source": [
    "6. 📦 Composition vs Inheritance\n",
    "Implement two classes:\n",
    "\n",
    "Box with an attribute contents (a list).\n",
    "ColoredBox that adds a color attribute.\n",
    "First, implement ColoredBox using inheritance from Box. Then, implement ColoredBox using composition by having a Box instance as an attribute."
   ]
  },
  {
   "cell_type": "code",
   "execution_count": 18,
   "metadata": {},
   "outputs": [
    {
     "name": "stdout",
     "output_type": "stream",
     "text": [
      "[]\n",
      "['hello']\n",
      "Blue\n"
     ]
    }
   ],
   "source": [
    "class Box:\n",
    "    def __init__(self):\n",
    "        self.contents = []\n",
    "    def get_content(self):\n",
    "        return self.contents\n",
    "    def set_content(self, x):\n",
    "        self.contents.append(x)\n",
    "\n",
    "class ColoredBox(Box):\n",
    "    def __init__(self, color):\n",
    "        super().__init__()\n",
    "        self.color = color\n",
    "    def get_color(self):\n",
    "        return self.color\n",
    "\n",
    "\n",
    "box2 = ColoredBox(\"Blue\")\n",
    "box2.set_content(\"red\")\n",
    "\n",
    "box1 = Box()\n",
    "print(box1.get_content())\n",
    "\n",
    "box1.set_content(\"hello\")\n",
    "\n",
    "print(box1.get_content())\n",
    "\n",
    "print(box2.get_color())\n",
    "\n"
   ]
  },
  {
   "cell_type": "markdown",
   "metadata": {},
   "source": [
    "7. 📋 Abstract Base Class\n",
    "Use the abc module to create an abstract base class Shape with an abstract method area(). Then, create subclasses Circle and Rectangle that implement the area() method."
   ]
  },
  {
   "cell_type": "code",
   "execution_count": null,
   "metadata": {},
   "outputs": [
    {
     "ename": "TypeError",
     "evalue": "Circle.__init__() got an unexpected keyword argument 'radius'",
     "output_type": "error",
     "traceback": [
      "\u001b[1;31m---------------------------------------------------------------------------\u001b[0m",
      "\u001b[1;31mTypeError\u001b[0m                                 Traceback (most recent call last)",
      "Cell \u001b[1;32mIn[20], line 18\u001b[0m\n\u001b[0;32m     15\u001b[0m     \u001b[38;5;28;01mdef\u001b[39;00m \u001b[38;5;21marea\u001b[39m(\u001b[38;5;28mself\u001b[39m):\n\u001b[0;32m     16\u001b[0m         \u001b[38;5;28;01mreturn\u001b[39;00m pi\u001b[38;5;241m*\u001b[39m\u001b[38;5;28mself\u001b[39m\u001b[38;5;241m.\u001b[39mradius\u001b[38;5;241m*\u001b[39m\u001b[38;5;28mself\u001b[39m\u001b[38;5;241m.\u001b[39mradius\n\u001b[1;32m---> 18\u001b[0m my_circle \u001b[38;5;241m=\u001b[39m \u001b[43mCircle\u001b[49m\u001b[43m(\u001b[49m\u001b[43mradius\u001b[49m\u001b[38;5;241;43m=\u001b[39;49m\u001b[38;5;241;43m3\u001b[39;49m\u001b[43m)\u001b[49m\n\u001b[0;32m     19\u001b[0m \u001b[38;5;28mprint\u001b[39m(\u001b[38;5;124m\"\u001b[39m\u001b[38;5;124mCircle area is\u001b[39m\u001b[38;5;124m\"\u001b[39m ,my_circle\u001b[38;5;241m.\u001b[39marea())\n\u001b[0;32m     21\u001b[0m my_rect \u001b[38;5;241m=\u001b[39m Rectangle(length\u001b[38;5;241m=\u001b[39m\u001b[38;5;241m3\u001b[39m, width\u001b[38;5;241m=\u001b[39m\u001b[38;5;241m4\u001b[39m)\n",
      "\u001b[1;31mTypeError\u001b[0m: Circle.__init__() got an unexpected keyword argument 'radius'"
     ]
    }
   ],
   "source": [
    "from math import pi\n",
    "from abc import ABC, abstractmethod\n",
    "\n",
    "class Shape(ABC):\n",
    "\n",
    "    @abstractmethod\n",
    "    def area(self):\n",
    "        pass\n",
    "\n",
    "class Circle(Shape):\n",
    "\n",
    "    def __init__(self):\n",
    "        self.radius = radius\n",
    "\n",
    "    def area(self):\n",
    "        return pi*self.radius*self.radius\n",
    "    \n",
    "my_circle = Circle(radius=3)\n",
    "print(\"Circle area is\" ,my_circle.area())\n",
    "\n",
    "my_rect = Rectangle(length=3, width=4)\n",
    "print (\"Rectangle area is \",my_rect.area())"
   ]
  },
  {
   "cell_type": "markdown",
   "metadata": {},
   "source": [
    "8. 🌀 Dunder Methods\n",
    "Create a class Vector that represents a vector in 2D space with x and y coordinates. Implement dunder methods for vector addition __add__, string representation __str__, and equality comparison __eq__."
   ]
  },
  {
   "cell_type": "code",
   "execution_count": null,
   "metadata": {},
   "outputs": [],
   "source": [
    "class Vector:\n",
    "\n",
    "  def __init__(self, x, y):\n",
    "    self.matrix = [[0] * x] * y\n",
    "    self.x = x\n",
    "    self.y = y\n",
    "\n",
    "  def __add__(self, vec2):\n",
    "    res = []\n",
    "    for i in range(self.x):\n",
    "      res.append([])\n",
    "      for j in range(self.y):\n",
    "        res[-1].append(self.matrix[i][j] + vec2.matrix[i][j])\n",
    "\n",
    "    return res\n",
    "\n",
    "def __str__(self):\n",
    "    for i in range(self.x):\n",
    "      for j in range(self.y):\n",
    "\n",
    "vec1 = Vector(2,2)\n",
    "vec1.matrix = [[1,1],[1,1]]\n",
    "vec2 = Vector(2,2)\n",
    "vec2.matrix = [[1,1],[1,1]]\n",
    "print(vec1 + vec2)"
   ]
  },
  {
   "cell_type": "markdown",
   "metadata": {},
   "source": [
    "9. 🚗 Car Class Hierarchy\n",
    "Create a class hierarchy for vehicles:\n",
    "\n",
    "Base class Vehicle with attributes make and model\n",
    "Subclass Car with attribute num_doors\n",
    "Subclass Truck with attribute payload_capacity\n",
    "Instantiate objects of Car and Truck, and demonstrate how they inherit from Vehicle."
   ]
  },
  {
   "cell_type": "code",
   "execution_count": 23,
   "metadata": {},
   "outputs": [],
   "source": [
    "class Vehicle:\n",
    "    def __init__(self, make, model):\n",
    "        self.make = make\n",
    "        self.model = model\n",
    "        self.check_engine = \"off\"\n",
    "    def start_engine(self):\n",
    "        print(\"Engine is on\")\n",
    "        self.check_engine = \"on\"\n",
    "\n",
    "class Car(Vehicle):\n",
    "    def __init__(self, make, model, num_doors):\n",
    "        super().__init__(make, model)\n",
    "        self.num_doors = num_doors\n",
    "\n",
    "class Truck(Vehicle):\n",
    "    def __init__(self, make, model, payload_capacity):\n",
    "        super().__init__(make, model)\n",
    "        self.payload_capacity = payload_capacity\n",
    "\n",
    "my_car = Car(\"Tesla\", \"Model_X\", 4)\n",
    "\n",
    "my_truck = Truck(\"Ford\", \"F-250\", 3000)\n",
    "\n"
   ]
  },
  {
   "cell_type": "markdown",
   "metadata": {},
   "source": [
    "10. ⚡ Electric Vehicle Extension\n",
    "Extend the Car class to create an ElectricCar subclass with an attribute battery_capacity. Override the start_engine method to indicate that the car is powered on silently."
   ]
  },
  {
   "cell_type": "code",
   "execution_count": null,
   "metadata": {},
   "outputs": [
    {
     "name": "stdout",
     "output_type": "stream",
     "text": [
      "Engine is on\n",
      "Motor started silently\n"
     ]
    }
   ],
   "source": [
    "class Electric_Car(Car):\n",
    "    def __init__(self, make, model, num_doors, battery_capacity):\n",
    "        super().__init__(make, model, num_doors)\n",
    "        self.battery_capacity = battery_capacity\n",
    "    def start_engine(self):\n",
    "        print(\"Motor started silently\")\n",
    "        self.check_engine = \"on\"\n",
    "        \n",
    "my_car = Car(\"Tesla\", \"Model_X\", 4)\n",
    "my_car.start_engine()\n",
    "\n",
    "my_ev = Electric_Car(\"Tesla\", \"Cybertruck\", 4, 100)\n",
    "my_ev.start_engine()"
   ]
  }
 ],
 "metadata": {
  "kernelspec": {
   "display_name": "Python 3",
   "language": "python",
   "name": "python3"
  },
  "language_info": {
   "codemirror_mode": {
    "name": "ipython",
    "version": 3
   },
   "file_extension": ".py",
   "mimetype": "text/x-python",
   "name": "python",
   "nbconvert_exporter": "python",
   "pygments_lexer": "ipython3",
   "version": "3.11.9"
  }
 },
 "nbformat": 4,
 "nbformat_minor": 2
}
