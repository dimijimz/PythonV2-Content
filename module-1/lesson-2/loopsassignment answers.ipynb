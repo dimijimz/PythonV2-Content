{
 "cells": [
  {
   "cell_type": "code",
   "execution_count": null,
   "metadata": {},
   "outputs": [],
   "source": [
    "## Exercise 1: Basic Loop Structures\n",
    "\n",
    "# Understanding the basics of loops is essential for iteration in Python.\n",
    "\n",
    "# - **Task 1.1:** Write a `while` loop that prints the numbers 1 through 10.\n",
    "i = 0\n",
    "while i < 10:\n",
    "    i += 1\n",
    "    print(i, end=\", \")\n",
    "# - **Task 1.2:** Write a `for` loop that prints each character in the string `\"Python\"`.\n",
    "print(\"\\n\")\n",
    "for i in \"Python\":\n",
    "    print(i, end=\", \")\n",
    "    t(\"\\n\")\n",
    "\n",
    "# - **Task 1.3:** Create a `for` loop that iterates over a list of numbers and prints the square of each number.\n",
    "for num in [1, 2, 3, 4, 5]:\n",
    "    print(num**2)\n",
    "    "
   ]
  },
  {
   "cell_type": "code",
   "execution_count": 16,
   "metadata": {},
   "outputs": [
    {
     "name": "stdout",
     "output_type": "stream",
     "text": [
      "1\n",
      "2\n",
      "3\n",
      "4\n",
      "5\n",
      "6\n",
      "0\n",
      "1\n",
      "2\n",
      "3\n",
      "4\n",
      "6\n",
      "7\n",
      "8\n",
      "9\n",
      "10\n"
     ]
    }
   ],
   "source": [
    "# - **Task 2.1:** Write a `while` loop that stops printing numbers from 1 to 10 when the number reaches 7 using the `break` statement.\n",
    "\n",
    "while count < 10:\n",
    "    if count == 7:\n",
    "        break\n",
    "    print(count)\n",
    "    count += 1\n",
    "\n",
    "\n",
    "\n",
    "        "
   ]
  },
  {
   "cell_type": "code",
   "execution_count": 17,
   "metadata": {},
   "outputs": [
    {
     "name": "stdout",
     "output_type": "stream",
     "text": [
      "0\n",
      "1\n",
      "2\n",
      "3\n",
      "4\n",
      "6\n",
      "7\n",
      "8\n",
      "9\n",
      "10\n"
     ]
    }
   ],
   "source": [
    "# - **Task 2.2:** Write a `for` loop that skips printing the number 5 when iterating over numbers 1 through 10 using the `continue` statement.\n",
    "count = 1\n",
    "count = 0\n",
    "while count < 11:\n",
    "    if count == 5:\n",
    "        count += 1\n",
    "        continue\n",
    "    print(count)\n",
    "    count += 1"
   ]
  },
  {
   "cell_type": "code",
   "execution_count": 18,
   "metadata": {},
   "outputs": [
    {
     "name": "stdout",
     "output_type": "stream",
     "text": [
      "1 2 3 4 5 \n",
      "2 4 6 8 10 \n",
      "3 6 9 12 15 \n",
      "4 8 12 16 20 \n",
      "5 10 15 20 25 \n"
     ]
    }
   ],
   "source": [
    "# - **Task 3.2:** Using nested loops, write a program to print the multiplication table for numbers 1 through 5.\n",
    "nested_loops = [1, 2, 3, 4, 5]\n",
    "\n",
    "for i in nested_loops:\n",
    "    for j in nested_loops:\n",
    "        print(i * j, end=\" \")\n",
    "    print() # newline after each row\n",
    "    "
   ]
  },
  {
   "cell_type": "code",
   "execution_count": 19,
   "metadata": {},
   "outputs": [
    {
     "name": "stdout",
     "output_type": "stream",
     "text": [
      "2\n",
      "4\n",
      "6\n",
      "8\n",
      "10\n",
      "12\n",
      "14\n",
      "16\n",
      "18\n",
      "20\n"
     ]
    }
   ],
   "source": [
    "# - **Task 4.1:** Write a `for` loop that prints only the even numbers from 1 to 20 using the `range()` function.\n",
    "\n",
    "for i in range(2, 21, 2):\n",
    "    print(i)\n",
    "    "
   ]
  },
  {
   "cell_type": "code",
   "execution_count": 20,
   "metadata": {},
   "outputs": [
    {
     "name": "stdout",
     "output_type": "stream",
     "text": [
      "10\n",
      "9\n",
      "8\n",
      "7\n",
      "6\n",
      "5\n",
      "4\n",
      "3\n",
      "2\n",
      "1\n"
     ]
    }
   ],
   "source": [
    "# - **Task 4.2:** Write a `for` loop that counts down from 10 to 1 using the `range()` function.\n",
    "\n",
    "for i in range(10, 0, -1):\n",
    "    print(i)"
   ]
  },
  {
   "cell_type": "code",
   "execution_count": 21,
   "metadata": {},
   "outputs": [
    {
     "name": "stdout",
     "output_type": "stream",
     "text": [
      "['Dimitri']\n",
      "['Dimitri', 'tommy']\n",
      "['Dimitri', 'tommy', 'tony']\n",
      "['Dimitri', 'tommy', 'tony', 'timmy']\n",
      "['Dimitri', 'tommy', 'tony', 'timmy', 'jimmy']\n"
     ]
    }
   ],
   "source": [
    "# - **Task 5.1:** Write a `for` loop that asks the user to input 5 different names and stores them in a list. Then, print each name.\n",
    "\n",
    "names = []\n",
    "for i in range(5):\n",
    "    name = input(\"Enter name: \")\n",
    "    names.append(name)\n",
    "    print(names)\n",
    "    "
   ]
  },
  {
   "cell_type": "code",
   "execution_count": 23,
   "metadata": {},
   "outputs": [
    {
     "name": "stdout",
     "output_type": "stream",
     "text": [
      "Wrong!\n",
      "Wrong!\n",
      "Wrong!\n",
      "Wrong!\n",
      "Wrong!\n",
      "Wrong!\n",
      "Wrong!\n",
      "Wrong!\n",
      "Wrong!\n",
      "Wrong!\n",
      "Wrong!\n",
      "Wrong!\n",
      "Correct!\n"
     ]
    }
   ],
   "source": [
    "# - **Task 5.2:** Write a `while` loop that keeps asking the user to guess a secret number until they get it right. Use `break` when they guess correctly.\n",
    "\n",
    "secret_number = 13\n",
    "guess = 0\n",
    "\n",
    "while guess != secret_number:\n",
    "    guess = int(input(\"Guess a number(Between 1 and 15): \"))\n",
    "    if guess == secret_number:\n",
    "        print(\"Correct!\")\n",
    "        break\n",
    "    else:\n",
    "        print(\"Wrong!\")"
   ]
  },
  {
   "cell_type": "code",
   "execution_count": 25,
   "metadata": {},
   "outputs": [
    {
     "name": "stdout",
     "output_type": "stream",
     "text": [
      "0 1 2 \n",
      "3 4 5 \n",
      "6 7 8 \n"
     ]
    }
   ],
   "source": [
    "##CHALLENGE ACCEPTED##\n",
    "\n",
    "## Exercise 3: Nested Loops\n",
    "\n",
    "#Nested loops allow for more complex iterations and data processing.\n",
    "\n",
    "#grid_list = [\n",
    "#[[0,0],[0,1],[0,2]],\n",
    "#[[1,0],[1,1],[1,2]],\n",
    "#[[2,0],[2,1],[2,2]]\n",
    "#]\n",
    "\n",
    "\n",
    "# - **Task 3.1:** Write a nested `for` loop that prints a 3x3 grid of numbers (i.e., rows and columns of numbers from 0 to 2).\n",
    "\n",
    "nested_loop = [[0, 1, 2], [3, 4, 5], [6, 7, 8]]\n",
    "\n",
    "for i in nested_loop:\n",
    "    for j in i:\n",
    "        print(j, end=\" \")\n",
    "    print() # newline after each row"
   ]
  }
 ],
 "metadata": {
  "kernelspec": {
   "display_name": "Python 3",
   "language": "python",
   "name": "python3"
  },
  "language_info": {
   "codemirror_mode": {
    "name": "ipython",
    "version": 3
   },
   "file_extension": ".py",
   "mimetype": "text/x-python",
   "name": "python",
   "nbconvert_exporter": "python",
   "pygments_lexer": "ipython3",
   "version": "3.11.9"
  }
 },
 "nbformat": 4,
 "nbformat_minor": 2
}
