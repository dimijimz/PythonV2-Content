{
 "cells": [
  {
   "cell_type": "markdown",
   "metadata": {},
   "source": [
    "                                         **Practice:**\n",
    "1. **Basic Decision Making:**   - Write a program to check if a number is positive, negative, or zero.   - Input: Any integer.   - Output: A string stating the type of number.\n",
    "\n",
    "2. **Logical Operators:**   - Create a program that determines if a year is a leap year. Use logical operators.   - Input: A year.   - Output: True if a leap year, False otherwise.\n",
    "\n",
    "3. **Nested Conditional Statements:**   \n",
    " Develop a program that categorizes a person's life stage: child (< 18), adult (18-64), senior (> 64).   - Input: Age as an integer.   - Output: The life stage. "
   ]
  },
  {
   "cell_type": "code",
   "execution_count": 6,
   "metadata": {},
   "outputs": [
    {
     "name": "stdout",
     "output_type": "stream",
     "text": [
      "The number is positive.\n"
     ]
    }
   ],
   "source": [
    "# answers\n",
    "#1.\n",
    "number = int(input(\"Enter your number: \"))\n",
    "if number == 0:\n",
    "    print(\"The number is zero.\")\n",
    "elif number > 0:\n",
    "    print(\"The number is positive.\")\n",
    "else:\n",
    "    print(\"The number is negative.\")"
   ]
  },
  {
   "cell_type": "code",
   "execution_count": 14,
   "metadata": {},
   "outputs": [
    {
     "name": "stdout",
     "output_type": "stream",
     "text": [
      "The year is not a leap year.\n"
     ]
    }
   ],
   "source": [
    "#2.\n",
    "year = int(input(\"Enter your year: \"))\n",
    "if (year % 4 == 0 and year % 100 != 0) or year % 400 == 0:\n",
    "    print(\"The year is a leap year.\")   \n",
    "else:\n",
    "    print(\"The year is not a leap year.\")"
   ]
  },
  {
   "cell_type": "code",
   "execution_count": 22,
   "metadata": {},
   "outputs": [
    {
     "name": "stdout",
     "output_type": "stream",
     "text": [
      "You're a senior.\n"
     ]
    }
   ],
   "source": [
    "#3.\n",
    "life_stage = int(input(\"Enter your age: \")) \n",
    "if life_stage < 1:\n",
    "    print(\"There's no way you're that young!\")\n",
    "elif life_stage < 18:\n",
    "    print(\"You're a child.\")\n",
    "elif life_stage < 65:\n",
    "    print(\"You're an adult.\")\n",
    "else:\n",
    "    print(\"You're a senior.\")"
   ]
  }
 ],
 "metadata": {
  "kernelspec": {
   "display_name": "Python 3",
   "language": "python",
   "name": "python3"
  },
  "language_info": {
   "codemirror_mode": {
    "name": "ipython",
    "version": 3
   },
   "file_extension": ".py",
   "mimetype": "text/x-python",
   "name": "python",
   "nbconvert_exporter": "python",
   "pygments_lexer": "ipython3",
   "version": "3.11.9"
  }
 },
 "nbformat": 4,
 "nbformat_minor": 2
}
