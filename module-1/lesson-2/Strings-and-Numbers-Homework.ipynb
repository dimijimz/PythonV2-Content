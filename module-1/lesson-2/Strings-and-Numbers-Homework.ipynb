{
 "cells": [
  {
   "cell_type": "markdown",
   "metadata": {},
   "source": [
    "# Combined Homework Assignment: Strings and Numbers in Python\n",
    "\n",
    "This assignment integrates the concepts of string manipulation and numerical operations in Python, offering a comprehensive understanding of these fundamental topics.\n",
    "\n",
    "## Part 1: Strings\n"
   ]
  },
  {
   "cell_type": "markdown",
   "metadata": {},
   "source": [
    "### Task 1.1: Format a Personal Introduction\n",
    "\n",
    "- **Objective:** Create a Python script that uses f-string formatting.\n",
    "- **Requirements:**\n",
    "  - Define two variables: `name` (string) and `age` (integer/float).\n",
    "  - Format and print a message like: `\"My name is [name] and I am [age] years old.\"`\n"
   ]
  },
  {
   "cell_type": "code",
   "execution_count": 1,
   "metadata": {},
   "outputs": [
    {
     "data": {
      "text/plain": [
       "'My name is Dimitri and I am 28 years old.'"
      ]
     },
     "execution_count": 1,
     "metadata": {},
     "output_type": "execute_result"
    }
   ],
   "source": [
    "# Task 1.1\n",
    "name = \"Dimitri\"\n",
    "age = 28\n",
    "f\"My name is {name} and I am {age} years old.\""
   ]
  },
  {
   "cell_type": "markdown",
   "metadata": {},
   "source": [
    "### Task 1.2: Build a Simple Text Processor\n",
    "\n",
    "- **Objective:** Develop a program to process text input.\n",
    "- **Requirements:**\n",
    "  - Prompt for a sentence input.\n",
    "  - Count and print the number of words.\n",
    "  - Replace a specified word and print the new sentence.\n"
   ]
  },
  {
   "cell_type": "code",
   "execution_count": 2,
   "metadata": {},
   "outputs": [
    {
     "name": "stdout",
     "output_type": "stream",
     "text": [
      "Number of words: 2\n",
      "Updated sentence: Sup bro\n"
     ]
    }
   ],
   "source": [
    "# Task 1.2\n",
    "\n",
    "# Get a sentence from the user\n",
    "sentence = input(\"Enter a sentence: \")\n",
    "\n",
    "# Count the words and print the number\n",
    "word_count = len(sentence.split())\n",
    "print(f\"Number of words: {word_count}\")\n",
    "\n",
    "# Ask for the word to replace and the new word\n",
    "word_to_replace = input(\"Enter the word you want to replace: \")\n",
    "replacement_word = input(\"Enter the replacement word: \")\n",
    "\n",
    "# Replace the word and print the new sentence\n",
    "new_sentence = sentence.replace(word_to_replace, replacement_word)\n",
    "print(f\"Updated sentence: {new_sentence}\")"
   ]
  },
  {
   "cell_type": "markdown",
   "metadata": {},
   "source": [
    "### Task 1.3: Explore Escape Characters\n",
    "\n",
    "- **Objective:** Understand the use of escape characters in strings.\n",
    "- **Requirements:**\n",
    "  - Create a string with quotes, a newline, and a tab space.\n",
    "  - Print the string to demonstrate escape characters.\n"
   ]
  },
  {
   "cell_type": "code",
   "execution_count": 8,
   "metadata": {},
   "outputs": [
    {
     "name": "stdout",
     "output_type": "stream",
     "text": [
      "This is a string with \"quotes\" \n",
      "This is a new line. \n",
      "\tThis is a tab space.\n"
     ]
    }
   ],
   "source": [
    "# Task 1.3\n",
    "string = \"This is a string with \\\"quotes\\\" \\nThis is a new line. \\n\\tThis is a tab space.\"\n",
    "\n",
    "print(string)"
   ]
  },
  {
   "cell_type": "markdown",
   "metadata": {},
   "source": [
    "## Part 2: Numbers\n"
   ]
  },
  {
   "cell_type": "markdown",
   "metadata": {},
   "source": [
    "### Task 2.1: Calculator Program\n",
    "\n",
    "- **Objective:** Develop a basic calculator.\n",
    "- **Requirements:**\n",
    "  - Input two numbers from the user.\n",
    "  - Choose an operation (add, subtract, multiply, divide).\n",
    "  - Perform and print the result of the operation.\n"
   ]
  },
  {
   "cell_type": "code",
   "execution_count": 17,
   "metadata": {},
   "outputs": [
    {
     "name": "stdout",
     "output_type": "stream",
     "text": [
      "Select operation:\n",
      "1. Add\n",
      "2. Subtract\n",
      "3. Multiply\n",
      "4. Divide\n",
      "20 / 10 = 2.0\n",
      "Calculation completed.\n"
     ]
    }
   ],
   "source": [
    "# Task 2.1\n",
    "\n",
    "##Basic Calculator##\n",
    "\n",
    "# 1. Gets input from user\n",
    "# int() converts the input string to an integer\n",
    "num1 = int(input(\"Enter the first number: \"))\n",
    "num2 = int(input(\"Enter the second number: \"))\n",
    "\n",
    "# 2. Displays menu and gets user's choice\n",
    "print(\"Select operation:\")\n",
    "print(\"1. Add\")\n",
    "print(\"2. Subtract\")\n",
    "print(\"3. Multiply\")\n",
    "print(\"4. Divide\")\n",
    "choice = input(\"Enter choice (1/2/3/4): \")\n",
    "\n",
    "# 3. Perform the calculation based on user choice\n",
    "#Addition\n",
    "if choice == '1':\n",
    "    result = num1 + num2\n",
    "    print(num1, \"+\", num2, \"=\", result)\n",
    "#Subtraction\n",
    "if choice == '2':\n",
    "    result = num1 - num2\n",
    "    print(num1, \"-\", num2, \"=\", result)\n",
    "#Multiplication\n",
    "if choice == '3':\n",
    "    result = num1 * num2\n",
    "    print(num1, \"*\", num2, \"=\", result)\n",
    "#Dvision\n",
    "if choice == '4':\n",
    "    # 4. Check for division by zero\n",
    "    if num2 == 0:\n",
    "        print(\"Error: Cannot divide by zero\")\n",
    "    else:\n",
    "        result = num1 / num2\n",
    "        print(num1, \"/\", num2, \"=\", result)\n",
    "\n",
    "# 4. Final check for valid input\n",
    "# If choice is not 1, 2, 3, or 4, display an error message\n",
    "if choice == '1' or choice == '2' or choice == '3' or choice == '4':\n",
    "    print(\"Calculation completed.\")\n",
    "else:\n",
    "    print(\"Invalid input\")"
   ]
  },
  {
   "cell_type": "markdown",
   "metadata": {},
   "source": [
    "### Task 2.2: Explore the Random Module\n",
    "\n",
    "- **Objective:** Utilize the `random` module.\n",
    "- **Requirements:**\n",
    "  - Generate and print 5 random integers between 1 and 100.\n"
   ]
  },
  {
   "cell_type": "code",
   "execution_count": 27,
   "metadata": {},
   "outputs": [
    {
     "name": "stdout",
     "output_type": "stream",
     "text": [
      "41\n"
     ]
    }
   ],
   "source": [
    "# Task 2.2\n",
    "import random\n",
    "print(random.randint(1, 100))"
   ]
  },
  {
   "cell_type": "markdown",
   "metadata": {},
   "source": [
    "### Task 2.3: Infinite and NaN (Not a Number) Concepts\n",
    "\n",
    "- **Objective:** Demonstrate the use of infinity and NaN in Python.\n",
    "- **Requirements:**\n",
    "  - Show how to create and use infinite and NaN values.\n",
    "  - Test and identify if a variable contains these values.\n"
   ]
  },
  {
   "cell_type": "code",
   "execution_count": 29,
   "metadata": {},
   "outputs": [
    {
     "name": "stdout",
     "output_type": "stream",
     "text": [
      "Positive infinity: inf\n",
      "Negative infinity: -inf\n",
      "NaN (Not a Number): nan\n",
      "\n",
      "Simple tests:\n",
      "Is positive infinity greater than 1000? True\n",
      "Is negative infinity less than -1000? True\n",
      "Is NaN equal to itself? False\n",
      "\n",
      "Basic operations:\n",
      "Positive infinity + 1 = inf\n",
      "Negative infinity - 1 = -inf\n",
      "NaN + 5 = nan\n",
      "\n",
      "Checking values:\n",
      "Is 42 infinity? False\n",
      "Is 42 NaN? False\n",
      "Is positive infinity NaN? False\n",
      "Is NaN NaN? True\n"
     ]
    }
   ],
   "source": [
    "# Task 2.3\n",
    "\n",
    "# Creating infinity and NaN\n",
    "pos_infinity = float('inf')\n",
    "neg_infinity = float('-inf')\n",
    "nan_value = float('nan')\n",
    "\n",
    "# Printing the values\n",
    "print(\"Positive infinity:\", pos_infinity)\n",
    "print(\"Negative infinity:\", neg_infinity)\n",
    "print(\"NaN (Not a Number):\", nan_value)\n",
    "\n",
    "# Simple tests\n",
    "print(\"\\nSimple tests:\")\n",
    "print(\"Is positive infinity greater than 1000?\", pos_infinity > 1000)\n",
    "print(\"Is negative infinity less than -1000?\", neg_infinity < -1000)\n",
    "print(\"Is NaN equal to itself?\", nan_value == nan_value)\n",
    "\n",
    "# Basic operations\n",
    "print(\"\\nBasic operations:\")\n",
    "print(\"Positive infinity + 1 =\", pos_infinity + 1)\n",
    "print(\"Negative infinity - 1 =\", neg_infinity - 1)\n",
    "print(\"NaN + 5 =\", nan_value + 5)\n",
    "\n",
    "# Checking if a value is infinity or NaN\n",
    "regular_number = 42\n",
    "print(\"\\nChecking values:\")\n",
    "print(\"Is 42 infinity?\", regular_number == pos_infinity or regular_number == neg_infinity)\n",
    "print(\"Is 42 NaN?\", regular_number != regular_number)  # NaN is the only value that's not equal to itself\n",
    "print(\"Is positive infinity NaN?\", pos_infinity != pos_infinity)\n",
    "print(\"Is NaN NaN?\", nan_value != nan_value)"
   ]
  },
  {
   "cell_type": "markdown",
   "metadata": {},
   "source": [
    "## Additional Challenges\n",
    "\n",
    "For a more comprehensive understanding, try the following:\n"
   ]
  },
  {
   "cell_type": "markdown",
   "metadata": {},
   "source": [
    "- **Challenge 1 (Strings):** Write a program that reverses the user's input sentence and prints it.\n"
   ]
  },
  {
   "cell_type": "code",
   "execution_count": 31,
   "metadata": {},
   "outputs": [
    {
     "name": "stdout",
     "output_type": "stream",
     "text": [
      "Reversed sentence: tacocat\n"
     ]
    }
   ],
   "source": [
    "# Challenge 1\n",
    "# Get input from the user\n",
    "sentence = input(\"Enter a sentence: \")\n",
    "\n",
    "# Reverse the sentence using string slicing\n",
    "reversed_sentence = sentence[::-1]\n",
    "\n",
    "# Print the reversed sentence\n",
    "print(\"Reversed sentence:\", reversed_sentence)"
   ]
  },
  {
   "cell_type": "markdown",
   "metadata": {},
   "source": [
    "- **Challenge 2 (Numbers):** Create a script that calculates and prints the factorial of a number provided by the user.\n"
   ]
  },
  {
   "cell_type": "code",
   "execution_count": 32,
   "metadata": {},
   "outputs": [
    {
     "name": "stdout",
     "output_type": "stream",
     "text": [
      "The factorial of 2 is: 2\n"
     ]
    }
   ],
   "source": [
    "# Challenge 2\n",
    "\n",
    "# Get input from the user\n",
    "num = input(\"Enter a number (1, 2, 3, 4, or 5): \")\n",
    "\n",
    "# Convert input to integer\n",
    "num = int(num)\n",
    "\n",
    "# Calculate factorial based on input\n",
    "if num == 1:\n",
    "    factorial = 1\n",
    "if num == 2:\n",
    "    factorial = 1 * 2\n",
    "if num == 3:\n",
    "    factorial = 1 * 2 * 3\n",
    "if num == 4:\n",
    "    factorial = 1 * 2 * 3 * 4\n",
    "if num == 5:\n",
    "    factorial = 1 * 2 * 3 * 4 * 5\n",
    "\n",
    "# Print the result\n",
    "print(\"The factorial of\", num, \"is:\", factorial)\n"
   ]
  },
  {
   "cell_type": "code",
   "execution_count": null,
   "metadata": {},
   "outputs": [],
   "source": []
  }
 ],
 "metadata": {
  "kernelspec": {
   "display_name": "Python 3",
   "language": "python",
   "name": "python3"
  },
  "language_info": {
   "codemirror_mode": {
    "name": "ipython",
    "version": 3
   },
   "file_extension": ".py",
   "mimetype": "text/x-python",
   "name": "python",
   "nbconvert_exporter": "python",
   "pygments_lexer": "ipython3",
   "version": "3.11.9"
  }
 },
 "nbformat": 4,
 "nbformat_minor": 2
}
