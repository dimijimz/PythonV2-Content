{
 "cells": [
  {
   "cell_type": "markdown",
   "metadata": {},
   "source": [
    "The rgb function is incomplete. Complete it so that passing in RGB decimal values will result in a hexadecimal representation being returned. Valid decimal values for RGB are 0 - 255. Any values that fall out of that range must be rounded to the closest valid value.\n",
    "\n",
    "Note: Your answer should always be 6 characters long, the shorthand with 3 will not work here.\n",
    "\n",
    "Examples (input --> output):\n",
    "255, 255, 255 --> \"FFFFFF\"\n",
    "255, 255, 300 --> \"FFFFFF\"\n",
    "0, 0, 0       --> \"000000\"\n",
    "148, 0, 211   --> \"9400D3\""
   ]
  },
  {
   "cell_type": "code",
   "execution_count": null,
   "metadata": {},
   "outputs": [],
   "source": [
    "def rgb(r, g, b):\n",
    "    # Ensure each value is within the range 0 to 255\n",
    "    if r < 0:\n",
    "        r = 0\n",
    "    if r > 255:\n",
    "        r = 255\n",
    "    if g < 0:\n",
    "        g = 0\n",
    "    if g > 255:\n",
    "        g = 255\n",
    "    if b < 0:\n",
    "        b = 0\n",
    "    if b > 255:\n",
    "        b = 255\n",
    "\n",
    "    # Convert each value to a two-digit hexadecimal string\n",
    "    r_hex = hex(r)[2:].upper()\n",
    "    if len(r_hex) < 2:\n",
    "        r_hex = '0' + r_hex\n",
    "\n",
    "    g_hex = hex(g)[2:].upper()\n",
    "    if len(g_hex) < 2:\n",
    "        g_hex = '0' + g_hex\n",
    "\n",
    "    b_hex = hex(b)[2:].upper()\n",
    "    if len(b_hex) < 2:\n",
    "        b_hex = '0' + b_hex\n",
    "\n",
    "    # Concatenate the hexadecimal strings\n",
    "    return r_hex + g_hex + b_hex\n"
   ]
  }
 ],
 "metadata": {
  "kernelspec": {
   "display_name": "Python 3",
   "language": "python",
   "name": "python3"
  },
  "language_info": {
   "name": "python",
   "version": "3.11.9"
  }
 },
 "nbformat": 4,
 "nbformat_minor": 2
}
