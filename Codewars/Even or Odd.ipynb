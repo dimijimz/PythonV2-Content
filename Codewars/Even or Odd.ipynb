{
 "cells": [
  {
   "cell_type": "code",
   "execution_count": 8,
   "metadata": {},
   "outputs": [
    {
     "name": "stdout",
     "output_type": "stream",
     "text": [
      "Even\n"
     ]
    }
   ],
   "source": [
    "# Create a function that takes an integer as an argument and returns \"Even\" for even numbers or \"Odd\" for odd numbers.\n",
    "\n",
    "user_input = int(input(\"Enter an integer: \"))\n",
    "# this function checks if the number is odd or even\n",
    "def even_or_odd(number):\n",
    "    if number % 2 == 0: # if value of number is integer returns even\n",
    "        return 'Even'\n",
    "    else:\n",
    "        return \"Odd\"  # else it should return odd\n",
    "\n",
    "print(even_or_odd(user_input)) #prints even or odd based off users input"
   ]
  }
 ],
 "metadata": {
  "kernelspec": {
   "display_name": "Python 3",
   "language": "python",
   "name": "python3"
  },
  "language_info": {
   "codemirror_mode": {
    "name": "ipython",
    "version": 3
   },
   "file_extension": ".py",
   "mimetype": "text/x-python",
   "name": "python",
   "nbconvert_exporter": "python",
   "pygments_lexer": "ipython3",
   "version": "3.11.9"
  }
 },
 "nbformat": 4,
 "nbformat_minor": 2
}
