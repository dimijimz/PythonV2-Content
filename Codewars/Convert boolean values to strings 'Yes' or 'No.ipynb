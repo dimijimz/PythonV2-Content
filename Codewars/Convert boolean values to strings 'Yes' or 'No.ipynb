{
 "cells": [
  {
   "cell_type": "code",
   "execution_count": null,
   "metadata": {},
   "outputs": [],
   "source": [
    "def bool_to_word(boolean):\n",
    "    return \"Yes\" if boolean else \"No\"\n",
    "pass"
   ]
  },
  {
   "cell_type": "markdown",
   "metadata": {},
   "source": [
    "Complete the method that takes a boolean value and return a \"Yes\" string for true, or a \"No\" string for false.\n",
    "\n"
   ]
  }
 ],
 "metadata": {
  "language_info": {
   "name": "python"
  }
 },
 "nbformat": 4,
 "nbformat_minor": 2
}
