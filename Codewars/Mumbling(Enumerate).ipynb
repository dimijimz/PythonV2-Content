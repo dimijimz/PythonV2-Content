{
 "cells": [
  {
   "cell_type": "code",
   "execution_count": null,
   "metadata": {},
   "outputs": [],
   "source": [
    "#This time no story, no theory. The examples below show you how to write function accum:\n",
    "\n",
    "#Examples:\n",
    "#accum(\"abcd\") -> \"A-Bb-Ccc-Dddd\"\n",
    "#accum(\"RqaEzty\") -> \"R-Qq-Aaa-Eeee-Zzzzz-Tttttt-Yyyyyyy\"\n",
    "#accum(\"cwAt\") -> \"C-Ww-Aaa-Tttt\"\n",
    "#The parameter of accum is a string which includes only letters from a..z and A..Z.\n",
    "\n",
    "def accum(st): # defines a function called accum that takes a string as input\n",
    "    result = [] # creates an empty list to store the result\n",
    "    for i, char in enumerate(st): # enumerate() function to get the index and character of each character in the string\n",
    "        result.append(char.upper() + char.lower() * i) # adds the character and its lowercase version to the result list\n",
    "    return \"-\".join(result) # joins the elements of the result list with a hyphen and returns the result\n"
   ]
  }
 ],
 "metadata": {
  "kernelspec": {
   "display_name": "Python 3",
   "language": "python",
   "name": "python3"
  },
  "language_info": {
   "name": "python",
   "version": "3.11.9"
  }
 },
 "nbformat": 4,
 "nbformat_minor": 2
}
