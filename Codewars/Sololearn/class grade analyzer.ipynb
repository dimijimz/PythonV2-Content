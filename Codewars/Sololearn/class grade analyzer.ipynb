{
 "cells": [
  {
   "cell_type": "markdown",
   "metadata": {},
   "source": [
    "PRACTICE EXERCISE\n",
    "Imagine you're a teacher with a set of final grades for your class. You want to see how many students scored above 8.0 to assess overall class performance.\n",
    "\n",
    "Task:\n",
    "Given the list of grades, calculate the number of grades that are above 8.0"
   ]
  },
  {
   "cell_type": "code",
   "execution_count": null,
   "metadata": {
    "vscode": {
     "languageId": "plaintext"
    }
   },
   "outputs": [],
   "source": [
    "grades = [8.5, 7.9, 6.8, 8.2, 9, 6.3, 8.4]\n",
    "count = 0\n",
    "\n",
    "# Count the number of grades above 8.0\n",
    "for grade in grades: \n",
    "    if grade > 8.0:\n",
    "        count += 1\n",
    "\n",
    "# Display the result\n",
    "\n",
    "print(count) #displays the count as result"
   ]
  }
 ],
 "metadata": {
  "language_info": {
   "name": "python"
  }
 },
 "nbformat": 4,
 "nbformat_minor": 2
}
