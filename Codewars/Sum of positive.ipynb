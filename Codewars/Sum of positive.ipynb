{
 "cells": [
  {
   "cell_type": "code",
   "execution_count": 1,
   "metadata": {},
   "outputs": [],
   "source": [
    "# You get an array of numbers, return the sum of all of the positives ones.\n",
    "\n",
    "# Example [1,-4,7,12] => 1 + 7 + 12 = 20\n",
    "\n",
    "# Note: if there is nothing to sum, the sum is default to 0.\n",
    "\n",
    "#def positive_sum(arr):\n",
    "    # Your code here\n",
    "   # return 0\n",
    "\n",
    "\n",
    "def positive_sum(arr):\n",
    "    total = 0 # Starts at 0\n",
    "    for num in arr: # Goes through each number in the array\n",
    "        if num > 0: # If the number is greater than 0 (Positive)\n",
    "            total += num # Add it to the total\n",
    "    return total # Returns the sum of ONLY the positive numbers            "
   ]
  }
 ],
 "metadata": {
  "kernelspec": {
   "display_name": "Python 3",
   "language": "python",
   "name": "python3"
  },
  "language_info": {
   "codemirror_mode": {
    "name": "ipython",
    "version": 3
   },
   "file_extension": ".py",
   "mimetype": "text/x-python",
   "name": "python",
   "nbconvert_exporter": "python",
   "pygments_lexer": "ipython3",
   "version": "3.11.9"
  }
 },
 "nbformat": 4,
 "nbformat_minor": 2
}
