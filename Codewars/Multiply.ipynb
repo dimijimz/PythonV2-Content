{
 "cells": [
  {
   "cell_type": "code",
   "execution_count": null,
   "metadata": {
    "vscode": {
     "languageId": "plaintext"
    }
   },
   "outputs": [],
   "source": [
    "# This code does not execute properly. Try to figure out why.\n",
    "\n",
    "# def multiply(a, b):\n",
    "#    a * b\n",
    "\n",
    "\n",
    "# My Solution: Added a return statement to the function.\n",
    "\n",
    "def multiply(a, b):\n",
    "    return a * b"
   ]
  }
 ],
 "metadata": {
  "language_info": {
   "name": "python"
  }
 },
 "nbformat": 4,
 "nbformat_minor": 2
}
