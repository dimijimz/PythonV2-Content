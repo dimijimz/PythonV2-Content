{
 "cells": [
  {
   "cell_type": "markdown",
   "metadata": {},
   "source": [
    "# Operators Assignment\n"
   ]
  },
  {
   "cell_type": "markdown",
   "metadata": {},
   "source": [
    "## Exercise 1: Arithmetic Operations\n",
    "\n",
    "Arithmetic operations are fundamental in programming as they allow us to perform mathematical calculations.\n",
    "\n",
    "- **Task 1.1:** Add the numbers `25` and `75` together using the `+` operator and print the result. This will help you practice using addition in Python.\n",
    "\n",
    "  Example:\n",
    "\n",
    "  ```python\n",
    "  sum_result = 25 + 75\n",
    "  print(sum_result)\n",
    "  ```\n",
    "\n",
    "- **Task 1.2:** Multiply the numbers `7` and `6` using the `*` operator and display the outcome with `print()`. This exercise will reinforce your understanding of multiplication in Python.\n"
   ]
  },
  {
   "cell_type": "code",
   "execution_count": 1,
   "metadata": {},
   "outputs": [
    {
     "name": "stdout",
     "output_type": "stream",
     "text": [
      "100\n"
     ]
    }
   ],
   "source": [
    "# Task 1.1\n",
    "result = 25 + 75\n",
    "\n",
    "print(result)"
   ]
  },
  {
   "cell_type": "code",
   "execution_count": 2,
   "metadata": {},
   "outputs": [
    {
     "name": "stdout",
     "output_type": "stream",
     "text": [
      "42\n"
     ]
    }
   ],
   "source": [
    "# Task 1.2\n",
    "result = 7 * 6\n",
    "\n",
    "print(result)"
   ]
  },
  {
   "cell_type": "markdown",
   "metadata": {},
   "source": [
    "## Exercise 2: Boolean Expressions\n",
    "\n",
    "Boolean expressions evaluate to either `True` or `False`. They are essential in decision-making and control flow in programs.\n",
    "\n",
    "- **Task 2.1:** Use the `>` operator to check if `15` is greater than `10` and print the result. This will familiarize you with comparison operators.\n",
    "- **Task 2.2:** Use the `==` operator to compare whether `20` is equal to `20` and print the resulting Boolean value.\n"
   ]
  },
  {
   "cell_type": "code",
   "execution_count": 7,
   "metadata": {},
   "outputs": [
    {
     "name": "stdout",
     "output_type": "stream",
     "text": [
      "True\n"
     ]
    }
   ],
   "source": [
    "# Task 2.1\n",
    "x = 15\n",
    "x > 10\n",
    "print(x > 10)"
   ]
  },
  {
   "cell_type": "code",
   "execution_count": 9,
   "metadata": {},
   "outputs": [
    {
     "name": "stdout",
     "output_type": "stream",
     "text": [
      "True\n"
     ]
    }
   ],
   "source": [
    "# Task 2.2\n",
    "x = 20\n",
    "print(x == 20)"
   ]
  },
  {
   "cell_type": "markdown",
   "metadata": {},
   "source": [
    "## Exercise 3: Logical Operations\n",
    "\n",
    "Logical operations combine or modify boolean expressions and are crucial in constructing complex conditions.\n",
    "\n",
    "- **Task 3.1:** Use the logical `and` operator to determine whether both `10` is greater than `5` and `15` is less than `20`. Print the result. This will show you how to combine multiple conditions.\n",
    "\n",
    "  Example:\n",
    "\n",
    "  ```python\n",
    "  logical_and_result = (10 > 5) and (15 < 20)\n",
    "  print(logical_and_result)\n",
    "  ```\n",
    "\n",
    "- **Task 3.2:** Apply the `not` operator to invert the result of the expression `5 == 5` and print the outcome. This exercise will demonstrate how to reverse a boolean value.\n"
   ]
  },
  {
   "cell_type": "code",
   "execution_count": 11,
   "metadata": {},
   "outputs": [
    {
     "name": "stdout",
     "output_type": "stream",
     "text": [
      "True\n"
     ]
    }
   ],
   "source": [
    "# Task 3.1\n",
    "logical_and_result = 10 > 5 and 15 < 20\n",
    "print (logical_and_result)"
   ]
  },
  {
   "cell_type": "code",
   "execution_count": 12,
   "metadata": {},
   "outputs": [
    {
     "name": "stdout",
     "output_type": "stream",
     "text": [
      "False\n"
     ]
    }
   ],
   "source": [
    "# Task 3.2\n",
    "result = 5 == 5\n",
    "print(not result)"
   ]
  },
  {
   "cell_type": "markdown",
   "metadata": {},
   "source": [
    "## Additional Challenges\n",
    "\n",
    "To further your understanding, try the following challenges:\n",
    "\n",
    "- **Challenge 1:** Calculate the average of three numbers: `23`, `35`, and `46`. Print the average with a descriptive message.\n",
    "- **Challenge 2:** Determine whether `100` is divisible by `3` and not equal to `10`. Use arithmetic and logical operators to find the result and explain your reasoning in a comment.\n"
   ]
  },
  {
   "cell_type": "code",
   "execution_count": 33,
   "metadata": {},
   "outputs": [
    {
     "name": "stdout",
     "output_type": "stream",
     "text": [
      "The average of the numbers is: 34.666666666666664\n"
     ]
    }
   ],
   "source": [
    "# Challenge 1\n",
    "average_number = (23 + 35 + 46) / 3 \n",
    "print(\"The average of the numbers is:\", average_number)"
   ]
  },
  {
   "cell_type": "code",
   "execution_count": 32,
   "metadata": {},
   "outputs": [
    {
     "name": "stdout",
     "output_type": "stream",
     "text": [
      "Is 100 divisible by 3 = 33.333333333333336 ,is number equal to 10? = False\n"
     ]
    }
   ],
   "source": [
    "# Challenge 2\n",
    "#divide 100 by 3\n",
    "number = 100 / 3\n",
    "#prints result and prints False if number is not equal to 10\n",
    "print(\"Is 100 divisible by 3 =\", number, \",is number equal to 10? =\", number == 10)"
   ]
  },
  {
   "cell_type": "markdown",
   "metadata": {},
   "source": [
    "## Reflection\n",
    "\n",
    "Reflect on the following questions after completing the exercises:\n",
    "\n",
    "- What types of problems can be solved more efficiently by using arithmetic, boolean, and logical operations?\n",
    "Some problems like calculating the area of a rectangle or determining if a number is even or odd can be solved more efficiently using arithmetic operations.\n",
    "- How do these operations interact with each other when used in combination?\n",
    "These operations can be combined to solve more complex problems. For example, you can use arithmetic operations to calculate the area of a rectangle and then use boolean operations to check if the area is greater than a certain value.\n",
    "- Provide an example of a real-life situation where you could use these operations.\n",
    "For example, you could use arithmetic operations to calculate the total cost of a shopping cart and then use boolean operations to check if the total cost is greater than a certain value.\n"
   ]
  },
  {
   "cell_type": "markdown",
   "metadata": {},
   "source": []
  }
 ],
 "metadata": {
  "kernelspec": {
   "display_name": "Python 3",
   "language": "python",
   "name": "python3"
  },
  "language_info": {
   "codemirror_mode": {
    "name": "ipython",
    "version": 3
   },
   "file_extension": ".py",
   "mimetype": "text/x-python",
   "name": "python",
   "nbconvert_exporter": "python",
   "pygments_lexer": "ipython3",
   "version": "3.11.9"
  }
 },
 "nbformat": 4,
 "nbformat_minor": 2
}
