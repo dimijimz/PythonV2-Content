{
 "cells": [
  {
   "cell_type": "markdown",
   "metadata": {},
   "source": [
    "# Basic File Handling Assignment\n",
    "\n",
    "- **Task 1.1**: Create a list named `favorite_movies` with elements representing your favorite movies. Then, write this list to a file named `movies.txt` using the `open()` function with write mode (`'w'`). Ensure each movie is on its own line. Finally, read back the contents from `movies.txt` and print them to verify. Implement this in the Python code block below.\n"
   ]
  },
  {
   "cell_type": "code",
   "execution_count": 9,
   "metadata": {},
   "outputs": [
    {
     "name": "stdout",
     "output_type": "stream",
     "text": [
      "Iron Man 2\n",
      "Nightmare Before Christmas\n",
      "Avengers: Endgame\n"
     ]
    }
   ],
   "source": [
    "favorite_movies = ['Iron Man 2', 'Nightmare Before Christmas', 'Avengers: Endgame']\n",
    "# Write favorite_movies to movies.txt\n",
    "with open(\"movies.txt\", \"w\") as file:\n",
    "    file.write(\"\\n\".join(favorite_movies))\n",
    "\n",
    "# Read from movies.txt and print contents\n",
    "with open(\"movies.txt\", \"r\") as file:\n",
    "    print(file.read())"
   ]
  },
  {
   "cell_type": "markdown",
   "metadata": {},
   "source": [
    "- **Task 1.2**: Check if a file named `notes.txt` exists. If it does, append a new note saying \"New note appended.\" If it does not exist, create the file and add a note saying \"First note added.\" Use the `os` module to check the file existence and the `open()` function with appropriate mode for file operations. Write your code in the block below."
   ]
  },
  {
   "cell_type": "code",
   "execution_count": 3,
   "metadata": {},
   "outputs": [
    {
     "name": "stdout",
     "output_type": "stream",
     "text": [
      "notes.txt exists\n"
     ]
    }
   ],
   "source": [
    "import os\n",
    "# Check if notes.txt exists and append or create and add note accordingly\n",
    "if os.path.exists(\"notes.txt\"):\n",
    "    print(\"notes.txt exists\")\n",
    "else:\n",
    "    print(\"notes.txt does not exist\")\n",
    "    \n"
   ]
  },
  {
   "cell_type": "markdown",
   "metadata": {},
   "source": [
    "- **Task 2.1**: Using the `with` statement, open `movies.txt` and append another movie name to the list. Then, read back and print the updated contents. This ensures the file is automatically closed after the block of code is executed. Execute your task in the code block below."
   ]
  },
  {
   "cell_type": "code",
   "execution_count": 4,
   "metadata": {},
   "outputs": [
    {
     "name": "stdout",
     "output_type": "stream",
     "text": [
      "Iron Man 2\n",
      "Nightmare Before Christmas\n",
      "Avengers: Endgame\n",
      "Guardians of the Galaxy\n",
      "Guardians of the Galaxy\n"
     ]
    }
   ],
   "source": [
    "# Append another movie to movies.txt using the with statement\n",
    "with open(\"movies.txt\", \"a\") as file:\n",
    "    file.write(\"\\nGuardians of the Galaxy\")\n",
    "# Read and print updated contents of movies.txt\n",
    "with open(\"movies.txt\", \"r\") as file:    \n",
    "    print(file.read())\n"
   ]
  },
  {
   "cell_type": "markdown",
   "metadata": {},
   "source": [
    "- **Task 2.2**: Use the `os.path.exists()` function to check if `notes.txt` exists. If it does, print \"File exists.\" If not, print \"File does not exist.\" This demonstrates how to check for a file's existence before attempting to perform operations on it. Implement your code in the Python block below."
   ]
  },
  {
   "cell_type": "code",
   "execution_count": 5,
   "metadata": {},
   "outputs": [
    {
     "name": "stdout",
     "output_type": "stream",
     "text": [
      "File exists\n"
     ]
    }
   ],
   "source": [
    "# Check for the existence of notes.txt and print appropriate message\n",
    "os.path.exists(\"notes.txt\")\n",
    "if os.path.exists(\"notes.txt\"):\n",
    "        print(\"File exists\")\n",
    "else:\n",
    "        print(\"File does not exist\")"
   ]
  },
  {
   "cell_type": "markdown",
   "metadata": {},
   "source": [
    "- **Task 3.1**: Demonstrate directory management by creating a new directory named `my_directory` and then removing it. Use the `os.mkdir()` function to create the directory and `os.rmdir()` to remove it. Make sure to check if the directory exists before trying to remove it to avoid errors. Code your solution in the block below."
   ]
  },
  {
   "cell_type": "code",
   "execution_count": 6,
   "metadata": {},
   "outputs": [
    {
     "name": "stdout",
     "output_type": "stream",
     "text": [
      "Directory removed\n"
     ]
    }
   ],
   "source": [
    "# Create and then remove my_directory\n",
    "os.mkdir(\"my_directory\")\n",
    "if os.path.exists(\"my_directory\"):\n",
    "    os.rmdir(\"my_directory\")\n",
    "    print(\"Directory removed\")\n",
    "else:\n",
    "    print(\"Directory does not exist\")    "
   ]
  }
 ],
 "metadata": {
  "kernelspec": {
   "display_name": "Python 3",
   "language": "python",
   "name": "python3"
  },
  "language_info": {
   "codemirror_mode": {
    "name": "ipython",
    "version": 3
   },
   "file_extension": ".py",
   "mimetype": "text/x-python",
   "name": "python",
   "nbconvert_exporter": "python",
   "pygments_lexer": "ipython3",
   "version": "3.11.9"
  }
 },
 "nbformat": 4,
 "nbformat_minor": 2
}
