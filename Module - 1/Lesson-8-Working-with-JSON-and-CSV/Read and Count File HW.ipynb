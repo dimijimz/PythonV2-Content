{
 "cells": [
  {
   "cell_type": "code",
   "execution_count": 4,
   "metadata": {},
   "outputs": [
    {
     "name": "stdout",
     "output_type": "stream",
     "text": [
      "Number of words in the file: 22\n",
      "Basic-File-Handling-Assignment.ipynb: 5372 bytes\n",
      "Basic-File-Operations.ipynb: 2906 bytes\n",
      "example.txt: 63 bytes\n",
      "file_exercise.py: 64 bytes\n",
      "movies.txt: 82 bytes\n",
      "notes.txt: 16 bytes\n",
      "Read and Count File HW.ipynb: 1975 bytes\n",
      "Read and Count Files.txt: 108 bytes\n"
     ]
    }
   ],
   "source": [
    "#Homework 10/09\n",
    "#1. Develop a Python script that reads a file and counts the number of words in it.\n",
    "with open(\"Read and Count Files.txt\", 'r') as file:\n",
    "    text = file.read()\n",
    "    words = text.split()\n",
    "    word_count = len(words)\n",
    "    print(\"Number of words in the file:\", word_count)\n",
    "#2. Create a program that lists all the files in a given directory and prints their file sizes.\n",
    "\n",
    "import os\n",
    "\n",
    "path = \"/Users/omgfr/OneDrive/Documents/Work/Python/PythonV2-Content/Module - 1/Lesson-8-Working-with-JSON-and-CSV\"\n",
    "\n",
    "files = os.listdir(path)\n",
    "\n",
    "for file in files:\n",
    "    \n",
    "    file_path = os.path.join(path, file)\n",
    "    if os.path.isfile(file_path):\n",
    "        file_size = os.path.getsize(file_path)\n",
    "        print(f\"{file}: {file_size} bytes\")\n",
    "            \n"
   ]
  }
 ],
 "metadata": {
  "kernelspec": {
   "display_name": "Python 3",
   "language": "python",
   "name": "python3"
  },
  "language_info": {
   "codemirror_mode": {
    "name": "ipython",
    "version": 3
   },
   "file_extension": ".py",
   "mimetype": "text/x-python",
   "name": "python",
   "nbconvert_exporter": "python",
   "pygments_lexer": "ipython3",
   "version": "3.11.9"
  }
 },
 "nbformat": 4,
 "nbformat_minor": 2
}
