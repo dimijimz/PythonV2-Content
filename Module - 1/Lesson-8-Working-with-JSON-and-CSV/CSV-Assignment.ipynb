{
 "cells": [
  {
   "cell_type": "markdown",
   "metadata": {},
   "source": [
    "# CSV File Handling Assignment\n",
    "\n",
    "## Exercise 1: Basic CSV File Operations\n",
    "\n",
    "In this exercise, you'll apply basic operations on CSV files using Python's `csv` module.\n",
    "\n",
    "* **Task 1.1:** Write a Python script to create a CSV file named `students.csv` and add the following data to it:\n",
    "    - Headers: `Name`, `Age`, `Major`\n",
    "    - Rows: \n",
    "        - Alice, 24, Computer Science\n",
    "        - Bob, 22, Mathematics\n",
    "        - Charlie, 23, Physics\n",
    "    - Ensure you close the file properly after writing."
   ]
  },
  {
   "cell_type": "code",
   "execution_count": 37,
   "metadata": {},
   "outputs": [],
   "source": [
    "# Task 1.1: Write initial content to 'students.csv'\n",
    "import csv\n",
    "\n",
    "csv_content = \"\"\"Name,Age,Major\n",
    "Link,28,Computer Science\n",
    "Bob,22,Mathematics\n",
    "Charlie,23,Physics\"\"\"\n",
    "\n",
    "with open(\"students.csv\", \"w\") as file:\n",
    "    file.write(csv_content)\n"
   ]
  },
  {
   "cell_type": "markdown",
   "metadata": {},
   "source": [
    "* **Task 1.2:** Read the file `students.csv` you just created, print each row to the console."
   ]
  },
  {
   "cell_type": "code",
   "execution_count": 38,
   "metadata": {},
   "outputs": [
    {
     "name": "stdout",
     "output_type": "stream",
     "text": [
      "['Name', 'Age', 'Major']\n",
      "['Link', '28', 'Computer Science']\n",
      "['Bob', '22', 'Mathematics']\n",
      "['Charlie', '23', 'Physics']\n"
     ]
    }
   ],
   "source": [
    "# Task 1.2: Read and print the content of 'students.csv'\n",
    "with open(\"students.csv\", \"r\") as file:\n",
    "    csv_reader = csv.reader(file)\n",
    "    for row in csv_reader:\n",
    "        print(row)\n"
   ]
  },
  {
   "cell_type": "markdown",
   "metadata": {},
   "source": [
    "* **Task 1.3:** Append a new row with your own choice of data to `students.csv` and print the entire file content to verify the addition."
   ]
  },
  {
   "cell_type": "code",
   "execution_count": 39,
   "metadata": {},
   "outputs": [
    {
     "name": "stdout",
     "output_type": "stream",
     "text": [
      "['Name', 'Age', 'Major']\n",
      "['Link', '28', 'Computer Science']\n",
      "['Bob', '22', 'Mathematics']\n",
      "['Charlie', '23', 'PhysicsZelda', '25', 'Biology']\n"
     ]
    }
   ],
   "source": [
    "# Task 1.3: Append a new row and verify the entire content\n",
    "\n",
    "new_student = [\"Zelda\", 25, \"Biology\"]\n",
    "\n",
    "# Append new student data\n",
    "with open(\"students.csv\", \"a\", newline='') as file:\n",
    "    csv_writer = csv.writer(file)\n",
    "    csv_writer.writerow(new_student)\n",
    "\n",
    "# Read and verify the entire content of the file\n",
    "with open(\"students.csv\", \"r\") as file:\n",
    "    csv_reader = csv.reader(file)\n",
    "    for row in csv_reader:\n",
    "        print(row)\n"
   ]
  },
  {
   "cell_type": "markdown",
   "metadata": {},
   "source": [
    "## Exercise 2: Advanced CSV Handling\n",
    "\n",
    "Let's explore more sophisticated CSV handling techniques.\n",
    "\n",
    "* **Task 2.1:** Create a CSV file `courses.csv` using a dictionary with fieldnames as `CourseID`, `CourseName`, and `Instructor`. Add at least 3 courses to the CSV and print the content of the file."
   ]
  },
  {
   "cell_type": "code",
   "execution_count": 40,
   "metadata": {},
   "outputs": [
    {
     "name": "stdout",
     "output_type": "stream",
     "text": [
      "{'CorseID': 'CSC101', 'CourseName': 'Introduction to Computer Science', 'Instructor': 'Dr. Smith'}\n",
      "{'CorseID': 'CSC102', 'CourseName': 'Programming in C', 'Instructor': 'Dr. Jones'}\n",
      "{'CorseID': 'CSC103', 'CourseName': 'Data Structures', 'Instructor': 'Dr. Brown'}\n"
     ]
    }
   ],
   "source": [
    "# Task 2.1\n",
    "\n",
    "dict = [\n",
    "    {\"CorseID\": \"CSC101\", \"CourseName\": \"Introduction to Computer Science\", \"Instructor\": \"Dr. Smith\"},\n",
    "    {\"CorseID\": \"CSC102\", \"CourseName\": \"Programming in C\", \"Instructor\": \"Dr. Jones\"},\n",
    "    {\"CorseID\": \"CSC103\", \"CourseName\": \"Data Structures\", \"Instructor\": \"Dr. Brown\"},\n",
    "]\n",
    "\n",
    "with open(\"courses.csv\", \"w\") as file:\n",
    "    csv_writer = csv.DictWriter(file, fieldnames=[\"CorseID\", \"CourseName\", \"Instructor\"])\n",
    "    csv_writer.writeheader()\n",
    "    csv_writer.writerows(dict)\n",
    "\n",
    "with open(\"courses.csv\", \"r\") as file:\n",
    "    csv_reader = csv.DictReader(file)\n",
    "    for row in csv_reader:\n",
    "        print(row)\n"
   ]
  },
  {
   "cell_type": "markdown",
   "metadata": {},
   "source": [
    "* **Task 2.2:** Read the `courses.csv` file using `DictReader` and print each row as a dictionary."
   ]
  },
  {
   "cell_type": "code",
   "execution_count": 41,
   "metadata": {},
   "outputs": [
    {
     "name": "stdout",
     "output_type": "stream",
     "text": [
      "{'CorseID': 'CSC101', 'CourseName': 'Introduction to Computer Science', 'Instructor': 'Dr. Smith'}\n",
      "{'CorseID': 'CSC102', 'CourseName': 'Programming in C', 'Instructor': 'Dr. Jones'}\n",
      "{'CorseID': 'CSC103', 'CourseName': 'Data Structures', 'Instructor': 'Dr. Brown'}\n"
     ]
    }
   ],
   "source": [
    "# Task 2.2\n",
    "with open(\"courses.csv\", \"r\") as file:\n",
    "    csv_reader = csv.DictReader(file)\n",
    "    for row in csv_reader:\n",
    "        print(row)"
   ]
  },
  {
   "cell_type": "markdown",
   "metadata": {},
   "source": [
    "* **Task 2.3:** Modify the delimiter of your CSV writer and reader to use a semicolon (`;`) instead of a comma, create a new file `courses_semicolon.csv` and perform read/write operations. Verify by printing the content.\n"
   ]
  },
  {
   "cell_type": "code",
   "execution_count": 43,
   "metadata": {},
   "outputs": [
    {
     "name": "stdout",
     "output_type": "stream",
     "text": [
      "['CorseID', 'CourseName', 'Instructor']\n",
      "['CSC101', 'Introduction to Computer Science', 'Dr. Smith']\n",
      "['CSC102', 'Programming in C', 'Dr. Jones']\n",
      "['CSC103', 'Data Structures', 'Dr. Brown']\n"
     ]
    }
   ],
   "source": [
    "# Task 2.3\n",
    "csv_content = \"\"\"CorseID;CourseName;Instructor\n",
    "CSC101;Introduction to Computer Science;Dr. Smith\n",
    "CSC102;Programming in C;Dr. Jones\n",
    "CSC103;Data Structures;Dr. Brown\"\"\"\n",
    "\n",
    "with open(\"courses_semicolon.csv\", \"w\") as file:\n",
    "    file.write(csv_content)\n",
    "\n",
    "with open(\"courses_semicolon.csv\", \"r\") as file:\n",
    "    csv_reader = csv.reader(file, delimiter=\";\")\n",
    "    for row in csv_reader:\n",
    "        print(row)\n"
   ]
  },
  {
   "cell_type": "markdown",
   "metadata": {},
   "source": [
    "## Exercise 3: Error Handling\n",
    "\n",
    "Implement error handling in file operations to manage unexpected situations.\n",
    "\n",
    "* **Task 3.1:** Attempt to read a file `nonexistent.csv` that does not exist, handle the `FileNotFoundError` to print a custom error message instead of the default traceback.\n"
   ]
  },
  {
   "cell_type": "code",
   "execution_count": 44,
   "metadata": {},
   "outputs": [
    {
     "name": "stdout",
     "output_type": "stream",
     "text": [
      "Thank you, but the file you are looking for is in another castle.\n"
     ]
    }
   ],
   "source": [
    "# Task 3.1\n",
    "try:\n",
    "    with open(\"nonexistent.csv\", \"r\") as file:\n",
    "        print(file.read())\n",
    "except FileNotFoundError:\n",
    "    print(\"Thank you, but the file you are looking for is in another castle.\")"
   ]
  },
  {
   "cell_type": "markdown",
   "metadata": {},
   "source": [
    "## Reflection\n",
    "\n",
    "Upon completion of these exercises, reflect on the following points and write a short paragraph:\n",
    "\n",
    "- Discuss the importance of using the `csv` module for handling CSV files in Python projects.\n",
    "\n",
    "The importance of 'csv' module is that it provides a clear way to handle CSV files in Python projects. It allows for easy reading, writing, and manipulation of CSV data, making it a valuable tool for data analysis, data processing, and data management tasks.\n",
    "\n",
    "- How does handling errors and using custom delimiters enhance the robustness and flexibility of file operations?\n",
    "\n",
    "Handling errors and using custom delimiters enchanes the flexibility of file operations. It allows for more flexible file operations, such as reading and writing data from different types of files, and handling errors that may occur during file operations.\n",
    "\n",
    "- Reflect on how the assignment helped you understand the practical application of CSV file operations in real-world projects.\n",
    "\n",
    "This assignment helped me understand the practical application of CSV file operations in real-world projects. It was a hands on experience that allowed me to apply the concepts learned in a real-world scenarios."
   ]
  }
 ],
 "metadata": {
  "kernelspec": {
   "display_name": "Python 3",
   "language": "python",
   "name": "python3"
  },
  "language_info": {
   "codemirror_mode": {
    "name": "ipython",
    "version": 3
   },
   "file_extension": ".py",
   "mimetype": "text/x-python",
   "name": "python",
   "nbconvert_exporter": "python",
   "pygments_lexer": "ipython3",
   "version": "3.11.9"
  }
 },
 "nbformat": 4,
 "nbformat_minor": 2
}
