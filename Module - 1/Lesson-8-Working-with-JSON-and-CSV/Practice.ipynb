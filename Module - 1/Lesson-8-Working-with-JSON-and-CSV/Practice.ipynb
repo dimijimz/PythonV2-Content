{
 "cells": [
  {
   "cell_type": "code",
   "execution_count": null,
   "metadata": {
    "vscode": {
     "languageId": "plaintext"
    }
   },
   "outputs": [],
   "source": [
    "### Practical Exercises\n",
    "celsius = [12,3,8,9]\n",
    "1. **Transforming Data:** Use `map` to convert a list of temperatures from Celsius to Fahrenheit.\n",
    "names = ['john','alyssa']\n",
    "2. **Filtering Data:** Use `filter` to extract names starting with a particular letter from a list.\n",
    "numbers[1,2,3,4,5]\n",
    "3. **Aggregating Data:** Use `reduce` to calculate the total of a list of numbers."
   ]
  }
 ],
 "metadata": {
  "language_info": {
   "name": "python"
  }
 },
 "nbformat": 4,
 "nbformat_minor": 2
}
