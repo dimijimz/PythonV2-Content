{
 "cells": [
  {
   "cell_type": "markdown",
   "metadata": {},
   "source": [
    "# CSV File Handling in Python\n",
    "\n",
    "## Educational Objectives\n",
    "\n",
    "By the end of this lecture, students will be able to:\n",
    "\n",
    "- Understand the structure and common use cases of CSV (Comma-Separated Values) files.\n",
    "- Utilize Python's `csv` module to perform read and write operations on CSV files.\n",
    "- Apply advanced techniques for handling CSV data, including working with dictionaries and managing custom delimiters.\n",
    "- Implement error handling strategies to address potential file operation issues.\n",
    "- Adopt best practices for efficient and robust CSV file processing in Python projects.\n",
    "\n",
    "### Introduction to CSV Files\n",
    "\n",
    "CSV files are fundamental for data storage and exchange, especially in tabular form. Their simplicity and compatibility with numerous applications make them indispensable in data handling.\n",
    "\n",
    "#### Why CSV Files?\n",
    "\n",
    "CSV files are prized for their straightforward format, allowing for easy creation, editing, and sharing. They facilitate data organization in rows and columns, compatible with spreadsheet software, databases, and programming languages.\n",
    "\n",
    "#### Structure of CSV Files\n",
    "\n",
    "CSV files are text files that store data in a tabular format. Each line represents a row, with fields separated by a delimiter, typically a comma. The first row often contains the column headers.\n",
    "\n",
    "```csv\n",
    "Name, Age, City\n",
    "Alice, 25, New York\n",
    "Bob, 30, Los Angeles\n",
    "Charlie, 22, Chicago\n",
    "```"
   ]
  },
  {
   "cell_type": "markdown",
   "metadata": {},
   "source": [
    "\n",
    "\n",
    "### Basic Operations with CSV Files\n",
    "\n",
    "Understanding basic operations like reading from and writing to CSV files is essential before diving into code.\n",
    "\n",
    "#### Reading CSV Files with Inline File Creation\n",
    "\n"
   ]
  },
  {
   "cell_type": "code",
   "execution_count": null,
   "metadata": {},
   "outputs": [],
   "source": [
    "# Interactive Code Block: Creating and Reading a CSV File\n",
    "import csv\n",
    "\n",
    "# Sample CSV content\n",
    "csv_content = \"\"\"Name,Age,City\n",
    "Alice,28,New York\n",
    "Bob,34,Los Angeles\"\"\"\n",
    "\n",
    "# Creating a sample CSV file\n",
    "with open('temp_example.csv', 'w') as file:\n",
    "    file.write(csv_content)\n",
    "\n",
    "# Reading the newly created CSV file\n",
    "with open('temp_example.csv', mode='r') as file:\n",
    "    csv_reader = csv.reader(file)\n",
    "    for row in csv_reader:\n",
    "        print(row)"
   ]
  },
  {
   "cell_type": "markdown",
   "metadata": {},
   "source": [
    "#### Writing to CSV Files and Reading Back\n"
   ]
  },
  {
   "cell_type": "code",
   "execution_count": null,
   "metadata": {},
   "outputs": [],
   "source": [
    "# Interactive Code Block: Writing to and Reading from a CSV File\n",
    "import csv\n",
    "\n",
    "data = [[\"Name\", \"Age\", \"City\"], [\"Charlie\", 30, \"Chicago\"], [\"Dana\", 22, \"Miami\"]]\n",
    "\n",
    "# Writing data to a CSV file\n",
    "with open('temp_output.csv', 'w', newline='') as file:\n",
    "    csv_writer = csv.writer(file)\n",
    "    for row in data:\n",
    "        csv_writer.writerow(row)\n",
    "\n",
    "# Reading back the written data\n",
    "with open('temp_output.csv', 'r') as file:\n",
    "    csv_reader = csv.reader(file)\n",
    "    for row in csv_reader:\n",
    "        print(row)"
   ]
  },
  {
   "cell_type": "markdown",
   "metadata": {},
   "source": [
    "### Advanced CSV Handling Techniques\n",
    "\n",
    "Delving deeper into CSV file handling reveals the need for more sophisticated techniques.\n",
    "\n",
    "#### Reading and Writing CSV Files Using Dictionaries with Inline File Creation"
   ]
  },
  {
   "cell_type": "code",
   "execution_count": 3,
   "metadata": {},
   "outputs": [
    {
     "name": "stdout",
     "output_type": "stream",
     "text": [
      "{'Name': 'Evan', 'Age': '35', 'City': 'Boston'}\n",
      "{'Name': 'Faith', 'Age': '29', 'City': 'Denver'}\n"
     ]
    }
   ],
   "source": [
    "# Interactive Code Block: Creating, Writing to, and Reading from a CSV File Using Dictionaries\n",
    "import csv\n",
    "\n",
    "data = [\n",
    "    {\"Name\": \"Evan\", \"Age\": 35, \"City\": \"Boston\"},\n",
    "    {\"Name\": \"Faith\", \"Age\": 29, \"City\": \"Denver\"}\n",
    "]\n",
    "\n",
    "with open('temp_dict_output.csv', 'w', newline='') as file:\n",
    "    fieldnames = ['Name', 'Age', 'City']\n",
    "    csv_dict_writer = csv.DictWriter(file, fieldnames=fieldnames)\n",
    "    csv_dict_writer.writeheader()\n",
    "    for row in data:\n",
    "        csv_dict_writer.writerow(row)\n",
    "\n",
    "with open('temp_dict_output.csv', 'r') as file:\n",
    "    csv_dict_reader = csv.DictReader(file)\n",
    "    for row in csv_dict_reader:\n",
    "        print(dict(row))"
   ]
  },
  {
   "cell_type": "markdown",
   "metadata": {},
   "source": [
    "#### Handling Custom Delimiters with Inline File Creation"
   ]
  },
  {
   "cell_type": "code",
   "execution_count": 4,
   "metadata": {},
   "outputs": [
    {
     "name": "stdout",
     "output_type": "stream",
     "text": [
      "['Name', 'Age', 'City']\n",
      "['Gina', '27', 'Seattle']\n",
      "['Hank', '45', 'Dallas']\n"
     ]
    }
   ],
   "source": [
    "# Interactive Code Block: Handling Custom Delimiters with Inline File Creation\n",
    "import csv\n",
    "\n",
    "csv_content_semicolon = \"\"\"Name;Age;City\n",
    "Gina;27;Seattle\n",
    "Hank;45;Dallas\"\"\"\n",
    "\n",
    "with open('temp_semicolon_example.csv', 'w') as file:\n",
    "    file.write(csv_content_semicolon)\n",
    "\n",
    "with open('temp_semicolon_example.csv', 'r') as file:\n",
    "    csv_reader = csv.reader(file, delimiter=';')\n",
    "    for row in csv_reader:\n",
    "        print(row)"
   ]
  },
  {
   "cell_type": "markdown",
   "metadata": {},
   "source": [
    "### Error Handling in File Operations\n",
    "\n",
    "Error handling is critical for robust file manipulation programs."
   ]
  },
  {
   "cell_type": "code",
   "execution_count": null,
   "metadata": {},
   "outputs": [],
   "source": [
    "# Interactive Code Block: Demonstrating Error Handling\n",
    "try:\n",
    "    with open('nonexistent_file.csv', 'r') as file:\n",
    "        print(file.read())\n",
    "except FileNotFoundError:\n",
    "    print(\"File not found. Demonstrating error handling in file operations.\")"
   ]
  },
  {
   "cell_type": "markdown",
   "metadata": {},
   "source": [
    "### Best Practices in CSV File Handling\n",
    "\n",
    "To ensure code efficiency, reliability, and maintainability:\n",
    "\n",
    "- **Context Managers:** Use `with` statements for proper file closure.\n",
    "- **Data Validation:** Verify data before writing to prevent errors.\n",
    "- **Exception Handling:** Prepare for and manage potential errors.\n",
    "- **Data Cleaning:** Standardize data from various sources.\n",
    "- **Memory Management:** Employ efficient techniques for large files.\n",
    "- **Regular Expressions:** Use for complex data validation."
   ]
  }
 ],
 "metadata": {
  "kernelspec": {
   "display_name": "Python 3",
   "language": "python",
   "name": "python3"
  },
  "language_info": {
   "codemirror_mode": {
    "name": "ipython",
    "version": 3
   },
   "file_extension": ".py",
   "mimetype": "text/x-python",
   "name": "python",
   "nbconvert_exporter": "python",
   "pygments_lexer": "ipython3",
   "version": "3.11.9"
  }
 },
 "nbformat": 4,
 "nbformat_minor": 2
}
