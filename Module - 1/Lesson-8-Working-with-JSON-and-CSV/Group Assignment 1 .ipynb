{
 "cells": [
  {
   "cell_type": "markdown",
   "metadata": {},
   "source": [
    "# 🚀 Advanced Functional Programming Exercises\n",
    "\n",
    "## 1. 🧮 Calculate Total Age in Group\n",
    "\n",
    "Given the following list of people, use `reduce` to calculate the total age of the group.\n",
    "\n",
    "```python\n",
    "people = [\n",
    "    {\"name\": \"Alice\", \"age\": 30},\n",
    "    {\"name\": \"Bob\", \"age\": 25},\n",
    "    {\"name\": \"Charlie\", \"age\": 35},\n",
    "    {\"name\": \"Diana\", \"age\": 40}\n",
    "]\n",
    "```\n"
   ]
  },
  {
   "cell_type": "code",
   "execution_count": 9,
   "metadata": {},
   "outputs": [
    {
     "name": "stdout",
     "output_type": "stream",
     "text": [
      "130\n"
     ]
    }
   ],
   "source": [
    "from functools import reduce\n",
    "people = [\n",
    "    {\"name\": \"Alice\", \"age\": 30},\n",
    "    {\"name\": \"Bob\", \"age\": 25},\n",
    "    {\"name\": \"Charlie\", \"age\": 35},\n",
    "    {\"name\": \"Diana\", \"age\": 40}\n",
    "]\n",
    "total_age = reduce(lambda a, b: a + b[\"age\"], people, 0)\n",
    "print(total_age)"
   ]
  },
  {
   "cell_type": "markdown",
   "metadata": {},
   "source": [
    "## 2. 🔍 Find the Oldest Person\n",
    "\n",
    "Using the same `people` list from above, use `reduce` to find the person with the highest age."
   ]
  },
  {
   "cell_type": "code",
   "execution_count": 13,
   "metadata": {},
   "outputs": [
    {
     "name": "stdout",
     "output_type": "stream",
     "text": [
      "40\n"
     ]
    }
   ],
   "source": [
    "people = [\n",
    "    {\"name\": \"Alice\", \"age\": 30},\n",
    "    {\"name\": \"Bob\", \"age\": 25},\n",
    "    {\"name\": \"Charlie\", \"age\": 35},\n",
    "    {\"name\": \"Diana\", \"age\": 40}\n",
    "]\n",
    "highest_age = reduce(lambda a, b: max(a, b[\"age\"]), people,0)\n",
    "print(highest_age)"
   ]
  },
  {
   "cell_type": "markdown",
   "metadata": {},
   "source": [
    "## 3. 🔠 Extract Unique Job Titles\n",
    "\n",
    "Given the following list of employees, use `map` and `filter` to extract a list of unique job titles.\n",
    "\n",
    "```python\n",
    "employees = [\n",
    "    {\"name\": \"Alice\", \"job_title\": \"Engineer\"},\n",
    "    {\"name\": \"Bob\", \"job_title\": \"Designer\"},\n",
    "    {\"name\": \"Charlie\", \"job_title\": \"Engineer\"},\n",
    "    {\"name\": \"Diana\", \"job_title\": \"Manager\"},\n",
    "    {\"name\": \"Eve\", \"job_title\": \"Designer\"}\n",
    "]\n",
    "```"
   ]
  },
  {
   "cell_type": "code",
   "execution_count": 20,
   "metadata": {},
   "outputs": [
    {
     "name": "stdout",
     "output_type": "stream",
     "text": [
      "['Engineer', 'Designer', 'Manager']\n"
     ]
    }
   ],
   "source": [
    "employees = [\n",
    "    {\"name\": \"Alice\", \"job_title\": \"Engineer\"},\n",
    "    {\"name\": \"Bob\", \"job_title\": \"Designer\"},\n",
    "    {\"name\": \"Charlie\", \"job_title\": \"Engineer\"},\n",
    "    {\"name\": \"Diana\", \"job_title\": \"Manager\"},\n",
    "    {\"name\": \"Eve\", \"job_title\": \"Designer\"}\n",
    "]\n",
    "\n",
    "unique_list = list(map(lambda a: a[\"job_title\"], employees))\n",
    "\n",
    "a = []\n",
    "def unique_jobss(x):\n",
    "    if x in a:\n",
    "        return False\n",
    "    a.append(x)\n",
    "    return True\n",
    "\n",
    "unique_jobs = list(filter(unique_jobss, unique_list))\n",
    "\n",
    "print(unique_jobs)"
   ]
  },
  {
   "cell_type": "markdown",
   "metadata": {},
   "source": [
    "## 4. 🗂️ Filter and Group by Age Range\n",
    "\n",
    "Using the `people` list, filter out those under 18, then group the remaining people by age range: 18-25, 26-35, 36-45."
   ]
  },
  {
   "cell_type": "code",
   "execution_count": 21,
   "metadata": {},
   "outputs": [
    {
     "name": "stdout",
     "output_type": "stream",
     "text": [
      "18-25\n",
      " [{'name': 'Bob', 'age': 25}]\n",
      "26-35\n",
      " [{'name': 'Alice', 'age': 30}, {'name': 'Charlie', 'age': 35}]\n",
      "36-45\n",
      " [{'name': 'Diana', 'age': 40}]\n"
     ]
    }
   ],
   "source": [
    "people = [\n",
    "    {\"name\": \"Alice\", \"age\": 30},\n",
    "    {\"name\": \"Bob\", \"age\": 25},\n",
    "    {\"name\": \"Charlie\", \"age\": 35},\n",
    "    {\"name\": \"Diana\", \"age\": 40}\n",
    "]\n",
    "between_18_25 = list(filter( lambda x: 17 < x['age'] < 26 , people))\n",
    " \n",
    "between_26_35 = list(filter( lambda x: 25 < x['age'] < 36 , people))\n",
    " \n",
    "between_36_45 = list(filter( lambda x: 35 < x['age'] < 46 , people))\n",
    " \n",
    "print(\"18-25\\n\", between_18_25)\n",
    "print(\"26-35\\n\", between_26_35)\n",
    "print(\"36-45\\n\", between_36_45)"
   ]
  }
 ],
 "metadata": {
  "kernelspec": {
   "display_name": "Python 3",
   "language": "python",
   "name": "python3"
  },
  "language_info": {
   "codemirror_mode": {
    "name": "ipython",
    "version": 3
   },
   "file_extension": ".py",
   "mimetype": "text/x-python",
   "name": "python",
   "nbconvert_exporter": "python",
   "pygments_lexer": "ipython3",
   "version": "3.11.9"
  }
 },
 "nbformat": 4,
 "nbformat_minor": 2
}
