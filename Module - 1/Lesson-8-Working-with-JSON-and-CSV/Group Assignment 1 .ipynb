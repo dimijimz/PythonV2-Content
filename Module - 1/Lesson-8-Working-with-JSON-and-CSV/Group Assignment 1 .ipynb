{
 "cells": [
  {
   "cell_type": "markdown",
   "metadata": {},
   "source": [
    "# 🚀 Advanced Functional Programming Exercises\n",
    "\n",
    "## 1. 🧮 Calculate Total Age in Group\n",
    "\n",
    "Given the following list of people, use `reduce` to calculate the total age of the group.\n",
    "\n",
    "```python\n",
    "people = [\n",
    "    {\"name\": \"Alice\", \"age\": 30},\n",
    "    {\"name\": \"Bob\", \"age\": 25},\n",
    "    {\"name\": \"Charlie\", \"age\": 35},\n",
    "    {\"name\": \"Diana\", \"age\": 40}\n",
    "]\n",
    "```\n"
   ]
  },
  {
   "cell_type": "code",
   "execution_count": 9,
   "metadata": {},
   "outputs": [
    {
     "name": "stdout",
     "output_type": "stream",
     "text": [
      "130\n"
     ]
    }
   ],
   "source": [
    "from functools import reduce\n",
    "people = [\n",
    "    {\"name\": \"Alice\", \"age\": 30},\n",
    "    {\"name\": \"Bob\", \"age\": 25},\n",
    "    {\"name\": \"Charlie\", \"age\": 35},\n",
    "    {\"name\": \"Diana\", \"age\": 40}\n",
    "]\n",
    "total_age = reduce(lambda a, b: a + b[\"age\"], people, 0)\n",
    "print(total_age)"
   ]
  },
  {
   "cell_type": "markdown",
   "metadata": {},
   "source": [
    "## 2. 🔍 Find the Oldest Person\n",
    "\n",
    "Using the same `people` list from above, use `reduce` to find the person with the highest age."
   ]
  },
  {
   "cell_type": "code",
   "execution_count": 13,
   "metadata": {},
   "outputs": [
    {
     "name": "stdout",
     "output_type": "stream",
     "text": [
      "40\n"
     ]
    }
   ],
   "source": [
    "people = [\n",
    "    {\"name\": \"Alice\", \"age\": 30},\n",
    "    {\"name\": \"Bob\", \"age\": 25},\n",
    "    {\"name\": \"Charlie\", \"age\": 35},\n",
    "    {\"name\": \"Diana\", \"age\": 40}\n",
    "]\n",
    "highest_age = reduce(lambda a, b: max(a, b[\"age\"]), people,0)\n",
    "print(highest_age)"
   ]
  },
  {
   "cell_type": "markdown",
   "metadata": {},
   "source": [
    "## 3. 🔠 Extract Unique Job Titles\n",
    "\n",
    "Given the following list of employees, use `map` and `filter` to extract a list of unique job titles.\n",
    "\n",
    "```python\n",
    "employees = [\n",
    "    {\"name\": \"Alice\", \"job_title\": \"Engineer\"},\n",
    "    {\"name\": \"Bob\", \"job_title\": \"Designer\"},\n",
    "    {\"name\": \"Charlie\", \"job_title\": \"Engineer\"},\n",
    "    {\"name\": \"Diana\", \"job_title\": \"Manager\"},\n",
    "    {\"name\": \"Eve\", \"job_title\": \"Designer\"}\n",
    "]\n",
    "```"
   ]
  },
  {
   "cell_type": "code",
   "execution_count": 3,
   "metadata": {},
   "outputs": [
    {
     "name": "stdout",
     "output_type": "stream",
     "text": [
      "['Engineer', 'Designer', 'Manager']\n"
     ]
    }
   ],
   "source": [
    "employees = [\n",
    "    {\"name\": \"Alice\", \"job_title\": \"Engineer\"},\n",
    "    {\"name\": \"Bob\", \"job_title\": \"Designer\"},\n",
    "    {\"name\": \"Charlie\", \"job_title\": \"Engineer\"},\n",
    "    {\"name\": \"Diana\", \"job_title\": \"Manager\"},\n",
    "    {\"name\": \"Eve\", \"job_title\": \"Designer\"}\n",
    "]\n",
    "\n",
    "unique_list = list(map(lambda a: a[\"job_title\"], employees))\n",
    "\n",
    "a = []\n",
    "def unique_jobss(x):\n",
    "    if x in a:\n",
    "        return False\n",
    "    a.append(x)\n",
    "    return True\n",
    "\n",
    "unique_jobs = list(filter(unique_jobss, unique_list))\n",
    "\n",
    "print(unique_jobs)"
   ]
  },
  {
   "cell_type": "markdown",
   "metadata": {},
   "source": [
    "## 4. 🗂️ Filter and Group by Age Range\n",
    "\n",
    "Using the `people` list, filter out those under 18, then group the remaining people by age range: 18-25, 26-35, 36-45."
   ]
  },
  {
   "cell_type": "code",
   "execution_count": null,
   "metadata": {},
   "outputs": [],
   "source": [
    "people = [\n",
    "    {\"name\": \"Alice\", \"age\": 30},\n",
    "    {\"name\": \"Bob\", \"age\": 25},\n",
    "    {\"name\": \"Charlie\", \"age\": 35},\n",
    "    {\"name\": \"Diana\", \"age\": 40}\n",
    "]\n",
    "between_18_25 = list(filter( lambda x: 17 < x['age'] < 26 , people))\n",
    " \n",
    "between_26_35 = list(filter( lambda x: 25 < x['age'] < 36 , people))\n",
    " \n",
    "between_36_45 = list(filter( lambda x: 35 < x['age'] < 46 , people))\n",
    " \n",
    "print(\"18-25\\n\", between_18_25)\n",
    "print(\"26-35\\n\", between_26_35)\n",
    "print(\"36-45\\n\", between_36_45)"
   ]
  },
  {
   "cell_type": "markdown",
   "metadata": {},
   "source": [
    "## 5. 🧩 Merge and Count Job Titles\n",
    "\n",
    "With the `employees` list, use `reduce` to create an object that counts how many people have each job title.\n"
   ]
  },
  {
   "cell_type": "code",
   "execution_count": 14,
   "metadata": {},
   "outputs": [
    {
     "name": "stdout",
     "output_type": "stream",
     "text": [
      "{'Engineer': 2, 'Designer': 2, 'Manager': 1}\n"
     ]
    }
   ],
   "source": [
    "from functools import reduce\n",
    "employees = [\n",
    "    {\"name\": \"Alice\", \"job_title\": \"Engineer\"},\n",
    "    {\"name\": \"Bob\", \"job_title\": \"Designer\"},\n",
    "    {\"name\": \"Charlie\", \"job_title\": \"Engineer\"},\n",
    "    {\"name\": \"Diana\", \"job_title\": \"Manager\"},\n",
    "    {\"name\": \"Eve\", \"job_title\": \"Designer\"}\n",
    "]\n",
    "\n",
    "counter = reduce(lambda acc, employee: acc.update({employee[\"job_title\"]:acc.get(employee[\"job_title\"],0)+ 1}) or acc, employees, {} )\n",
    "print (counter)"
   ]
  },
  {
   "cell_type": "markdown",
   "metadata": {},
   "source": [
    "## 6. 📊 Calculate Average Salary\n",
    "\n",
    "Using the following list of employees with salaries, use `reduce` to calculate the average salary. Exclude any employees with a salary below 50,000."
   ]
  },
  {
   "cell_type": "code",
   "execution_count": null,
   "metadata": {},
   "outputs": [
    {
     "name": "stdout",
     "output_type": "stream",
     "text": [
      "[{'name': 'Alice', 'salary': 60000}, {'name': 'Charlie', 'salary': 70000}, {'name': 'Diana', 'salary': 52000}]\n"
     ]
    }
   ],
   "source": [
    "salaries = [\n",
    "    {\"name\": \"Alice\", \"salary\": 60000},\n",
    "    {\"name\": \"Bob\", \"salary\": 45000},\n",
    "    {\"name\": \"Charlie\", \"salary\": 70000},\n",
    "    {\"name\": \"Diana\", \"salary\": 52000},\n",
    "    {\"name\": \"Eve\", \"salary\": 48000}\n",
    "]\n",
    "\n",
    "high_salary = list(filter(lambda x: x[\"salary\"] >= 50000,salaries))\n",
    "print(high_salary)\n",
    "\n",
    "avg_salary = reduce(lambda x, y: x.update({\"total_salaries\": x.get(\"total_salaries\", 0) + y[\"salary\"], \"new_salary\": x.get(\"new_salary\", 0) + 1}) or x , high_salary, {})"
   ]
  },
  {
   "cell_type": "markdown",
   "metadata": {},
   "source": [
    "## 7. 🌱 Filter Active Accounts\n",
    "\n",
    "Given the following list of user accounts, use `filter` to return only active accounts.\n",
    "\n",
    "```python\n",
    "accounts = [\n",
    "    {\"name\": \"Alice\", \"isActive\": True},\n",
    "    {\"name\": \"Bob\", \"isActive\": False},\n",
    "    {\"name\": \"Charlie\", \"isActive\": True},\n",
    "    {\"name\": \"Diana\", \"isActive\": False}\n",
    "]\n",
    "```"
   ]
  },
  {
   "cell_type": "code",
   "execution_count": 2,
   "metadata": {},
   "outputs": [
    {
     "name": "stdout",
     "output_type": "stream",
     "text": [
      "[{'name': 'Alice', 'isActive': True}, {'name': 'Charlie', 'isActive': True}]\n"
     ]
    }
   ],
   "source": [
    "accounts = [\n",
    "    {\"name\": \"Alice\", \"isActive\": True},\n",
    "    {\"name\": \"Bob\", \"isActive\": False},\n",
    "    {\"name\": \"Charlie\", \"isActive\": True},\n",
    "    {\"name\": \"Diana\", \"isActive\": False}\n",
    "]\n",
    "\n",
    "active_accounts = list(filter(lambda account:account[\"isActive\"], accounts))\n",
    "print(active_accounts)\n"
   ]
  },
  {
   "cell_type": "markdown",
   "metadata": {},
   "source": [
    "## 8. 🕹️ Generate Usernames\n",
    "\n",
    "Write a function using `map` to generate usernames from the following list of names in the format `first letter of first name + last name`, all lowercase.\n"
   ]
  },
  {
   "cell_type": "code",
   "execution_count": 8,
   "metadata": {},
   "outputs": [
    {
     "name": "stdout",
     "output_type": "stream",
     "text": [
      "['ajohnson', 'bsmith', 'cbrown', 'dwilliams']\n"
     ]
    }
   ],
   "source": [
    "names = [\n",
    "    {\"first_name\": \"Alice\", \"last_name\": \"Johnson\"},\n",
    "    {\"first_name\": \"Bob\", \"last_name\": \"Smith\"},\n",
    "    {\"first_name\": \"Charlie\", \"last_name\": \"Brown\"},\n",
    "    {\"first_name\": \"Diana\", \"last_name\": \"Williams\"}\n",
    "]\n",
    "\n",
    "usernames = list(map(lambda name:name[\"first_name\"][0].lower() +  name[\"last_name\"].lower(), names))\n",
    "print(usernames)"
   ]
  },
  {
   "cell_type": "markdown",
   "metadata": {},
   "source": [
    "## 9. 📅 Find Longest Employment Duration\n",
    "\n",
    "Given the following list of employees with `hire_date` and `termination_date`, use `reduce` to find the employee with the longest duration of employment."
   ]
  },
  {
   "cell_type": "code",
   "execution_count": null,
   "metadata": {},
   "outputs": [
    {
     "name": "stdout",
     "output_type": "stream",
     "text": [
      "Bob 2192\n"
     ]
    }
   ],
   "source": [
    "from functools import reduce\n",
    "from datetime import datetime, timedelta\n",
    "employment = [\n",
    "    {\"name\": \"Alice\", \"hire_date\": \"2015-06-01\", \"termination_date\": \"2020-06-01\"},\n",
    "    {\"name\": \"Bob\", \"hire_date\": \"2012-01-01\", \"termination_date\": \"2018-01-01\"},\n",
    "    {\"name\": \"Charlie\", \"hire_date\": \"2017-09-01\", \"termination_date\": \"2022-09-01\"},\n",
    "    {\"name\": \"Diana\", \"hire_date\": \"2013-05-01\", \"termination_date\": \"2019-05-01\"}\n",
    "]\n",
    "\n",
    "longest_employee = \"\"\n",
    "def longest_duration(acc, employee):\n",
    "    date_1 = datetime.strptime(employee['hire_date'], '%Y-%m-%d')\n",
    "    date_2 = datetime.strptime(employee['termination_date'], '%Y-%m-%d')\n",
    "    difference = (date_2 - date_1).days\n",
    "    if difference > acc:\n",
    "        global longest_employee\n",
    "        longest_employee = employee['name']\n",
    "        return difference\n",
    "    return acc\n",
    "    \n",
    "max_time = reduce(longest_duration, employment , -1)\n",
    "print(longest_employee, max_time)\n"
   ]
  },
  {
   "cell_type": "markdown",
   "metadata": {},
   "source": [
    "## 10. 📍 Sort Locations by Distance\n",
    "\n",
    "Using the following list of locations with latitude and longitude, write a function that uses `map` to calculate distances from a reference point `(0, 0)`, then `sort` the list by distance in ascending order."
   ]
  },
  {
   "cell_type": "code",
   "execution_count": 17,
   "metadata": {},
   "outputs": [
    {
     "name": "stdout",
     "output_type": "stream",
     "text": [
      "[48.9064924115398, 51.51016404555513, 84.46765179641258, 123.05472359889319]\n"
     ]
    }
   ],
   "source": [
    "locations = [\n",
    "    {\"name\": \"Place A\", \"latitude\": 34.05, \"longitude\": -118.25},\n",
    "    {\"name\": \"Place B\", \"latitude\": 40.71, \"longitude\": -74.01},\n",
    "    {\"name\": \"Place C\", \"latitude\": 51.51, \"longitude\": -0.13},\n",
    "    {\"name\": \"Place D\", \"latitude\": 48.85, \"longitude\": 2.35}\n",
    "]\n",
    "import math\n",
    "reference_point = (0,0)\n",
    "def distance_2d(location):\n",
    "    point2 = (0,0)\n",
    "    point1 = (location[\"longitude\"], location[\"latitude\"])\n",
    "    return math.sqrt((point2[0] - point1[0])**2 + (point2[1] - point1[1])**2)\n",
    "distance_list = list(map(distance_2d, locations))\n",
    "distance_list.sort()\n",
    "print (distance_list)\n"
   ]
  },
  {
   "cell_type": "markdown",
   "metadata": {},
   "source": [
    "### Extra Challenge 💡\n",
    "\n",
    "Combine multiple functional methods (e.g., `map`, `filter`, `reduce`) to process the following data structure, filtering active users, calculating the total age, and grouping by job title."
   ]
  },
  {
   "cell_type": "code",
   "execution_count": null,
   "metadata": {},
   "outputs": [],
   "source": [
    "extended_data = [\n",
    "    {\"name\": \"Alice\", \"age\": 30, \"job_title\": \"Engineer\", \"isActive\": True},\n",
    "    {\"name\": \"Bob\", \"age\": 25, \"job_title\": \"Designer\", \"isActive\": False},\n",
    "    {\"name\": \"Charlie\", \"age\": 35, \"job_title\": \"Engineer\", \"isActive\": True},\n",
    "    {\"name\": \"Diana\", \"age\": 40, \"job_title\": \"Manager\", \"isActive\": True},\n",
    "    {\"name\": \"Eve\", \"age\": 28, \"job_title\": \"Designer\", \"isActive\": True}\n",
    "]\n",
    "\n"
   ]
  }
 ],
 "metadata": {
  "kernelspec": {
   "display_name": "Python 3",
   "language": "python",
   "name": "python3"
  },
  "language_info": {
   "codemirror_mode": {
    "name": "ipython",
    "version": 3
   },
   "file_extension": ".py",
   "mimetype": "text/x-python",
   "name": "python",
   "nbconvert_exporter": "python",
   "pygments_lexer": "ipython3",
   "version": "3.11.9"
  }
 },
 "nbformat": 4,
 "nbformat_minor": 2
}
