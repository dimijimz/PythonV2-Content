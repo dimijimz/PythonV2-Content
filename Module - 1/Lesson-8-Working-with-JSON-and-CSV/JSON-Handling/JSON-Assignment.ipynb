{
 "cells": [
  {
   "cell_type": "markdown",
   "metadata": {},
   "source": [
    "# JSON Handling in Python Assignment\n",
    "\n",
    "## Exercise 1: Parsing JSON Strings\n",
    "\n",
    "Understanding how to convert JSON strings into Python data structures is a fundamental skill for working with JSON in Python.\n",
    "\n",
    "* **Task 1.1:** Given the JSON string `{\"name\": \"Alice\", \"age\": 30, \"city\": \"New York\"}`, parse it into a Python dictionary and print the dictionary."
   ]
  },
  {
   "cell_type": "code",
   "execution_count": 7,
   "metadata": {},
   "outputs": [
    {
     "name": "stdout",
     "output_type": "stream",
     "text": [
      "{'name': 'Alice', 'age': 30, 'city': 'New York'}\n"
     ]
    }
   ],
   "source": [
    "# Task 1.1\n",
    "import json\n",
    "\n",
    "nested_json_string = \"\"\"{\n",
    "    \"name\": \"Alice\",\n",
    "    \"age\": 30,\n",
    "    \"city\": \"New York\"\n",
    "    \n",
    "}\"\"\"\n",
    "\n",
    "my_dict = json.loads(nested_json_string)\n",
    "print(my_dict)"
   ]
  },
  {
   "cell_type": "markdown",
   "metadata": {},
   "source": [
    "* **Task 1.2:** Access the value of the `name` key from the dictionary created in Task 1.1 and print it.\n"
   ]
  },
  {
   "cell_type": "code",
   "execution_count": 8,
   "metadata": {},
   "outputs": [
    {
     "name": "stdout",
     "output_type": "stream",
     "text": [
      "Alice\n"
     ]
    }
   ],
   "source": [
    "# Task 1.2\n",
    "name = my_dict['name']\n",
    "print(name)"
   ]
  },
  {
   "cell_type": "markdown",
   "metadata": {},
   "source": [
    "* **Task 1.3:** Modify the `age` value to `31` in the dictionary from Task 1.1 and print the updated dictionary.\n"
   ]
  },
  {
   "cell_type": "code",
   "execution_count": 9,
   "metadata": {},
   "outputs": [
    {
     "name": "stdout",
     "output_type": "stream",
     "text": [
      "{'name': 'Alice', 'age': 31, 'city': 'New York'}\n"
     ]
    }
   ],
   "source": [
    "# Task 1.3\n",
    "my_dict['age'] = 31\n",
    "print(my_dict)"
   ]
  },
  {
   "cell_type": "markdown",
   "metadata": {},
   "source": [
    "## Exercise 2: Generating JSON Strings\n",
    "\n",
    "Converting Python data structures to JSON strings is crucial for data storage and communication.\n",
    "\n",
    "* **Task 2.1:** Create a Python list named `colors` with the elements `\"red\"`, `\"green\"`, and `\"blue\"`. Convert this list to a JSON string and print the string."
   ]
  },
  {
   "cell_type": "code",
   "execution_count": 10,
   "metadata": {},
   "outputs": [
    {
     "name": "stdout",
     "output_type": "stream",
     "text": [
      "['red', 'green', 'blue']\n"
     ]
    }
   ],
   "source": [
    "# Task 2.1\n",
    "colors = [\"red\", \"green\", \"blue\"]\n",
    "\n",
    "with open(\"colors.json\", \"w\") as f:\n",
    "    json.dumps(colors)\n",
    "    print(colors)"
   ]
  },
  {
   "cell_type": "markdown",
   "metadata": {},
   "source": [
    "* **Task 2.2:** Create a Python dictionary representing a person with keys `name`, `age`, and `skills`, where `skills` is a list of skills. Convert this dictionary to a JSON string with an indentation of 4 spaces and print it."
   ]
  },
  {
   "cell_type": "code",
   "execution_count": 11,
   "metadata": {},
   "outputs": [
    {
     "name": "stdout",
     "output_type": "stream",
     "text": [
      "{\n",
      "    \"name\": \"Alice\",\n",
      "    \"age\": 31,\n",
      "    \"skills\": [\n",
      "        \"Python\",\n",
      "        \"Data Analysis\",\n",
      "        \"Machine Learning\"\n",
      "    ]\n",
      "}\n"
     ]
    }
   ],
   "source": [
    "# Task 2.2\n",
    "new_dict = {\"name\": \"Alice\", \"age\": 31, \"skills\": [\"Python\", \"Data Analysis\", \"Machine Learning\"]}\n",
    "with open(\"new_dict.json\", \"w\") as f:\n",
    "    json.dump(new_dict, f, indent=4)\n",
    "json_str = json.dumps(new_dict, indent=4)\n",
    "print(json_str)"
   ]
  },
  {
   "cell_type": "markdown",
   "metadata": {},
   "source": [
    "* **Task 3.1:** Given the nested JSON string `{\"employee\": {\"name\": \"John Doe\", \"roles\": [\"Admin\", \"User\"], \"email\": \"johndoe@example.com\"}}`, parse it into a Python object and print the roles of the employee.\n"
   ]
  },
  {
   "cell_type": "code",
   "execution_count": 12,
   "metadata": {},
   "outputs": [
    {
     "name": "stdout",
     "output_type": "stream",
     "text": [
      "['Admin', 'User']\n"
     ]
    }
   ],
   "source": [
    "# Task 3.1\n",
    "nested_json_string = \"\"\"{\n",
    "    \"employee\": {\n",
    "        \"name\": \"John Doe\",\n",
    "        \"roles\": [\"Admin\", \"User\"],\n",
    "        \"email\": \"johndoe@example.com\"\n",
    "    }\n",
    "}\"\"\"\n",
    "my_dict = json.loads(nested_json_string)\n",
    "print(my_dict[\"employee\"][\"roles\"])\n",
    "\n"
   ]
  },
  {
   "cell_type": "markdown",
   "metadata": {},
   "source": [
    "* **Task 3.2:** Add a new role `\"Manager\"` to the employee roles in the Python object from Task 3.1, then convert the entire object back to a JSON string and print it.\n"
   ]
  },
  {
   "cell_type": "code",
   "execution_count": 13,
   "metadata": {},
   "outputs": [
    {
     "name": "stdout",
     "output_type": "stream",
     "text": [
      "{\"employee\": {\"name\": \"John Doe\", \"roles\": [\"Admin\", \"User\", \"Manager\"], \"email\": \"johndoe@example.com\"}}\n"
     ]
    }
   ],
   "source": [
    "\n",
    "# Task 3.2\n",
    "my_dict = json.loads(nested_json_string)\n",
    "my_dict[\"employee\"][\"roles\"].append(\"Manager\")\n",
    "\n",
    "with open(\"my_dict.json\", \"w\") as f:\n",
    "    json.dump(my_dict, f,)\n",
    "\n",
    "json_str = json.dumps(my_dict,)\n",
    "print(json_str)\n",
    "\n"
   ]
  },
  {
   "cell_type": "markdown",
   "metadata": {},
   "source": [
    "## Exercise 4: JSON and Files\n",
    "\n",
    "Working with JSON files is a common task for configuration files, data storage, and more.\n",
    "\n",
    "* **Task 4.1:** Write a Python script to load a JSON file named `data.json` containing an array of objects. Print the loaded data."
   ]
  },
  {
   "cell_type": "code",
   "execution_count": 14,
   "metadata": {},
   "outputs": [
    {
     "name": "stdout",
     "output_type": "stream",
     "text": [
      "[{'name': 'Alice', 'age': 30, 'skills': ['Python', 'Data Analysis']}, {'name': 'Bob', 'age': 25, 'skills': ['JavaScript', 'React']}, {'name': 'Charlie', 'age': 35, 'skills': ['Java', 'Spring Boot']}, {'name': 'Dimitri', 'age': 28, 'skills': ['Python', 'Web Development']}, {'name': 'Dimitri', 'age': 28, 'skills': ['Python', 'Web Development']}]\n"
     ]
    }
   ],
   "source": [
    "# Task 4.1\n",
    "with open('data.json', 'r') as file:\n",
    "    data = json.load(file)\n",
    "print(data)\n",
    "\n",
    "        "
   ]
  },
  {
   "cell_type": "markdown",
   "metadata": {},
   "source": [
    "* **Task 4.2:** Modify the data loaded in Task 4.1 by adding a new object to the array. Save the updated array back to `data.json`."
   ]
  },
  {
   "cell_type": "code",
   "execution_count": 16,
   "metadata": {},
   "outputs": [
    {
     "name": "stdout",
     "output_type": "stream",
     "text": [
      "[{'name': 'Alice', 'age': 30, 'skills': ['Python', 'Data Analysis']}, {'name': 'Bob', 'age': 25, 'skills': ['JavaScript', 'React']}, {'name': 'Charlie', 'age': 35, 'skills': ['Java', 'Spring Boot']}, {'name': 'Dimitri', 'age': 28, 'skills': ['Python', 'Web Development']}, {'name': 'Dimitri', 'age': 28, 'skills': ['Python', 'Web Development']}, {'name': 'Dimitri', 'age': 28, 'skills': ['Python', 'Web Development']}]\n"
     ]
    }
   ],
   "source": [
    "# Task 4.2\n",
    "\n",
    "new_person = {\n",
    "    \"name\": \"Dimitri\",\n",
    "    \"age\": 28,\n",
    "    \"skills\": [\"Python\" , \"Web Development\"]\n",
    "}\n",
    "data.append(new_person)\n",
    "with open(\"data.json\", \"w\") as file:\n",
    "    json.dump(data, file, indent=4)\n",
    "\n",
    "print(data)\n"
   ]
  },
  {
   "cell_type": "markdown",
   "metadata": {},
   "source": [
    "## Reflection\n",
    "\n",
    "After completing these exercises, reflect on the following questions and write a short paragraph:\n",
    "\n",
    "* What are the advantages of using JSON for data storage and exchange in Python applications?\n",
    "* How does handling complex JSON structures prepare you for working with real-world data?\n",
    "* Reflect on the process of converting between Python objects and JSON strings. How does this impact the way you think about data structures in Python?"
   ]
  }
 ],
 "metadata": {
  "kernelspec": {
   "display_name": "Python 3",
   "language": "python",
   "name": "python3"
  },
  "language_info": {
   "codemirror_mode": {
    "name": "ipython",
    "version": 3
   },
   "file_extension": ".py",
   "mimetype": "text/x-python",
   "name": "python",
   "nbconvert_exporter": "python",
   "pygments_lexer": "ipython3",
   "version": "3.11.9"
  }
 },
 "nbformat": 4,
 "nbformat_minor": 2
}
