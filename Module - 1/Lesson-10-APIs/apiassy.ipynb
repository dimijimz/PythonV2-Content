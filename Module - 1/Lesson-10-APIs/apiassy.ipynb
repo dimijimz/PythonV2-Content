{
 "cells": [
  {
   "cell_type": "markdown",
   "metadata": {},
   "source": [
    "**Analyzing API Documentation:**\n",
    "\n",
    "   - **Task:** Review the documentation of a public API (e.g., GitHub API, OpenWeatherMap API).\n",
    "   - **Objective:** Identify and list:\n",
    "     - **Endpoints:** Key API endpoints available.\n",
    "     - **HTTP Methods:** The methods used for each endpoint (GET, POST, etc.).\n",
    "     - **Required Parameters:** Any mandatory parameters for requests.\n",
    "     - **Expected Responses:** The format and structure of the data returned."
   ]
  },
  {
   "cell_type": "markdown",
   "metadata": {},
   "source": [
    "1. Endpoints\n",
    "Some of the key API endpoints available in the Pokémon API include:\n",
    "\n",
    "/pokemon/{name or id}: Fetch details about a Pokémon by name or ID.\n",
    "/ability/{name or id}: Fetch details about a Pokémon ability.\n",
    "/type/{name or id}: Fetch details about Pokémon types.\n",
    "/move/{name or id}: Fetch details about Pokémon moves.\n",
    "/pokemon-species/{name or id}: Fetch details about a Pokémon species.\n",
    "/generation/{id}: Fetch details about a specific generation.\n",
    "\n",
    "\n",
    "2. HTTP Methods\n",
    "All PokéAPI endpoints use the GET method.\n",
    "\n",
    "\n",
    "3. Required Parameters\n",
    "Each endpoint has specific required parameters. Here are the details:\n",
    "\n",
    "Example for /pokemon/{name or id}\n",
    "Required Parameter:\n",
    "name or id: The name (e.g., pikachu) or ID (e.g., 25) of the Pokémon.\n",
    "Example for /ability/{name or id}\n",
    "Required Parameter:\n",
    "name or id: The name (e.g., overgrow) or ID (e.g., 65) of the ability.\n",
    "Example for /type/{name or id}\n",
    "Required Parameter:\n",
    "name or id: The name (e.g., fire) or ID (e.g., 10) of the type.\n",
    "\n",
    "4. Expected Responses\n",
    "All responses are returned in JSON format. Below are examples of responses for specific endpoints:\n",
    "\n",
    "{ \"name\": \"pikachu\", \"id\": 25, \"abilities\": [ { \"ability\": { \"name\": \"static\" } }, { \"ability\": { \"name\": \"lightning-rod\" } } ]"
   ]
  },
  {
   "cell_type": "markdown",
   "metadata": {},
   "source": [
    "Mapping HTTP Methods to CRUD Operations:\n",
    "\n",
    "Task: Create a table mapping the CRUD operations to the appropriate HTTP methods.\n",
    "\n",
    "Objective: Understand how each HTTP method corresponds to create, read, update, and delete actions.\n",
    "\n",
    "CRUD Operation\tHTTP Method\n",
    "Create\t\n",
    "Read\t\n",
    "Update\t\n",
    "Delete\t"
   ]
  },
  {
   "cell_type": "markdown",
   "metadata": {},
   "source": [
    "CRUD Operation\tHTTP Method\n",
    "Create              POST\n",
    "Read                GET\n",
    "Update              PUT/PATCH\n",
    "Delete              DELETE"
   ]
  },
  {
   "cell_type": "markdown",
   "metadata": {},
   "source": [
    "***Designing RESTful URIs:***\n",
    "\n",
    "Resources Provided:\n",
    "Users\n",
    "Posts\n",
    "Comments\n",
    "Categories\n",
    "Tags\n",
    "Task: For each resource, design RESTful URIs for the following actions:\n",
    "Listing all items\n",
    "Retrieving a specific item\n",
    "Creating a new item\n",
    "Updating an existing item\n",
    "Deleting an item\n",
    "Objective: Practice constructing standard RESTful endpoints."
   ]
  },
  {
   "cell_type": "markdown",
   "metadata": {},
   "source": [
    "Listing all items:\n",
    "\n",
    "/pokemon: List all Pokémon.\n",
    "/type: List all Pokémon types.\n",
    "/ability: List all Pokémon abilities.\n",
    "/move: List all Pokémon moves.\n",
    "/item: List all items.\n",
    "Retrieving a specific item:\n",
    "\n",
    "/pokemon/{id or name}: Retrieve a specific Pokémon by ID or name.\n",
    "/type/{id or name}: Retrieve a specific Pokémon type by ID or name.\n",
    "/ability/{id or name}: Retrieve a specific Pokémon ability by ID or name.\n",
    "/move/{id or name}: Retrieve a specific Pokémon move by ID or name.\n",
    "/item/{id or name}: Retrieve a specific item by ID or name.\n",
    "Creating a new item:\n",
    "\n",
    "Not Available: The PokéAPI does not support creating new items.\n",
    "Updating an existing item:\n",
    "\n",
    "Not Available: The PokéAPI does not support updating existing items.\n",
    "Deleting an item:\n",
    "\n",
    "Not Available: The PokéAPI does not support deleting items.\n"
   ]
  },
  {
   "cell_type": "markdown",
   "metadata": {},
   "source": [
    "**Understanding Status Codes:**\n",
    "\n",
    "   - **Scenarios:**\n",
    "     1. **Resource Not Found:** A client requests a user profile that doesn't exist.\n",
    "     2. **Unauthorized Access:** A client tries to access a protected resource without valid authentication.\n",
    "     3. **Successful Creation:** A new post is successfully created on the server.\n",
    "     4. **Bad Request:** A client sends a request with invalid syntax that the server cannot understand.\n",
    "   - **Task:** Determine the appropriate HTTP status code for each scenario.\n",
    "   - **Objective:** Familiarize yourself with common HTTP status codes and their meanings.\n",
    "\n",
    "\n"
   ]
  },
  {
   "cell_type": "markdown",
   "metadata": {},
   "source": [
    "\n",
    "1. Resource Not Found\n",
    "\n",
    "Status Code: 404 Not Found\n",
    "This means the server could not find the requested resource. For example, if a client requests a Pokémon that doesn’t exist, the server will return a 404 status.\n",
    "\n",
    "2. Unauthorized Access\n",
    "\n",
    "Status Code: 401 Unauthorized\n",
    "This means the client is not authenticated and cannot access the resource. If the API required authentication and the client didn’t provide valid credentials, this code would be returned.\n",
    "\n",
    "3. Successful Creation\n",
    "\n",
    "Status Code: 201 Created\n",
    "This means the server successfully created a new resource. For example, if the API allowed creating a new Pokémon entry, the server would return a 201 status upon success.\n",
    "\n",
    "4. Bad Request\n",
    "\n",
    "Status Code: 400 Bad Request\n",
    "This means the server cannot process the request due to invalid input. For example, if the client sends a malformed request with incorrect parameters, the server will return a 400 status."
   ]
  }
 ],
 "metadata": {
  "language_info": {
   "name": "python"
  }
 },
 "nbformat": 4,
 "nbformat_minor": 2
}
