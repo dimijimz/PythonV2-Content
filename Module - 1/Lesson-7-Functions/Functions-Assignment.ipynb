{
 "cells": [
  {
   "cell_type": "code",
   "execution_count": 20,
   "metadata": {},
   "outputs": [
    {
     "name": "stdout",
     "output_type": "stream",
     "text": [
      "16\n"
     ]
    }
   ],
   "source": [
    "# * **Task 1.1:** Define a function named `square` that takes one parameter, `number`, and returns the square of that number. \n",
    "# Call the function with a number of your choice and print the result.\n",
    "\n",
    "def square (number):\n",
    "    return number*number\n",
    "\n",
    "print(square(4))  "
   ]
  },
  {
   "cell_type": "code",
   "execution_count": 2,
   "metadata": {},
   "outputs": [
    {
     "name": "stdout",
     "output_type": "stream",
     "text": [
      "Hello, Python!\n"
     ]
    }
   ],
   "source": [
    "# * **Task 1.2:** Create a function called `say_hello` that takes no parameters and simply prints `\"Hello, Python!\"` when called.\n",
    "\n",
    "def say_hello():\n",
    "    print(\"Hello, Python!\")\n",
    "\n",
    "say_hello()"
   ]
  },
  {
   "cell_type": "code",
   "execution_count": 3,
   "metadata": {},
   "outputs": [
    {
     "name": "stdout",
     "output_type": "stream",
     "text": [
      "6\n"
     ]
    }
   ],
   "source": [
    "# * **Task 2.1:** Write a function named `add` that takes two parameters, `a` and `b`, adds them together, and returns the result. \n",
    "# Call the function with two numbers as arguments and print the result.\n",
    "\n",
    "def add(a, b):\n",
    "    return a + b\n",
    "\n",
    "result = add(2, 4)\n",
    "print(result)\n"
   ]
  },
  {
   "cell_type": "code",
   "execution_count": 8,
   "metadata": {},
   "outputs": [
    {
     "name": "stdout",
     "output_type": "stream",
     "text": [
      "That number is even: True\n",
      "That number is even: False\n"
     ]
    }
   ],
   "source": [
    "# **Task 2.2:** Define a function called `is_even` that takes a single parameter, `num`, and returns `True` if the number is even, and `False` otherwise.\n",
    "#  Demonstrate its use by printing the result of a call with an even and an odd number.\n",
    "\n",
    "def is_even(num):\n",
    "    if num % 2 == 0:\n",
    "        return True\n",
    "    else:\n",
    "        return False\n",
    "\n",
    "print(f\"That number is even: {is_even(4)}\")\n",
    "print(f\"That number is even: {is_even(5)}\")"
   ]
  },
  {
   "cell_type": "code",
   "execution_count": 9,
   "metadata": {},
   "outputs": [
    {
     "name": "stdout",
     "output_type": "stream",
     "text": [
      "Hello, Guest!\n",
      "Hello, John!\n",
      "Hello, Jane!\n",
      "Hello, Joe!\n"
     ]
    }
   ],
   "source": [
    "#* **Task 3.1:** Define a function `greet_user` with one parameter, `name`, with a default value of `\"Guest\"`. The function should print a greeting message using the name.\n",
    "#  Call the function twice: first, without any arguments, and second, with a name of your choice.\n",
    "\n",
    "def greet_user(name=\"Guest\"):\n",
    "    print(f\"Hello, {name}!\")\n",
    "\n",
    "greet_user()\n",
    "greet_user(\"John\")\n",
    "greet_user(\"Jane\")\n",
    "greet_user(\"Joe\")"
   ]
  },
  {
   "cell_type": "code",
   "execution_count": 10,
   "metadata": {},
   "outputs": [
    {
     "name": "stdout",
     "output_type": "stream",
     "text": [
      "I have a cat.\n",
      "My cat's name is harry.\n",
      "I have a dog.\n",
      "My dog's name is ashton.\n"
     ]
    }
   ],
   "source": [
    "# **Task 3.2:** Create a function named `describe_animal` with two parameters: `animal_type` and `pet_name`. Print a description of the animal using these parameters.\n",
    "#  Call this function using keyword arguments to specify the name and type of your pet or a fictional animal.\n",
    "\n",
    "def describe_animal(animal_type, pet_name):\n",
    "    print(f\"I have a {animal_type}.\")\n",
    "    print(f\"My {animal_type}'s name is {pet_name}.\")\n",
    "\n",
    "describe_animal(\"cat\", \"harry\")\n",
    "describe_animal(\"dog\", \"ashton\")"
   ]
  },
  {
   "cell_type": "code",
   "execution_count": 1,
   "metadata": {},
   "outputs": [
    {
     "name": "stdout",
     "output_type": "stream",
     "text": [
      "3\n",
      "3\n",
      "3\n",
      "3\n",
      "1\n"
     ]
    }
   ],
   "source": [
    "# * **Challenge 1:** Write a function `max_of_three` that takes three numbers as arguments and returns the largest of them.\n",
    "#  Ensure your function works for a set of any three numbers.\n",
    "\n",
    "def max_of_three(a, b, c):\n",
    "    return max(a, b, c)\n",
    "\n",
    "print(max_of_three(1, 2, 3))\n",
    "print(max_of_three(3, 2, 1))\n",
    "print(max_of_three(1, 3, 2))\n",
    "print(max_of_three(3, 3, 2))\n",
    "print(max_of_three(1, 1, 1))"
   ]
  },
  {
   "cell_type": "code",
   "execution_count": 4,
   "metadata": {},
   "outputs": [
    {
     "name": "stdout",
     "output_type": "stream",
     "text": [
      "Hello world !\n",
      "You've met with a terrible fate haven't you?\n"
     ]
    }
   ],
   "source": [
    "#* **Challenge 2:** Implement a function `concat_strings` that takes an arbitrary number of strings (using `*args`) and\n",
    "#  concatenates them into a single string separated by spaces. Test your function with multiple strings.\n",
    "\n",
    "# Define the function to concatenate strings\n",
    "def concat_strings(*args):\n",
    "    # '.join' all strings in args with a space in between\n",
    "    return \" \".join(args)\n",
    "\n",
    "# Call the function with multiple string arguments\n",
    "result = concat_strings(\"Hello\", \"world\", \"!\") \n",
    "result2 = concat_strings(\"You've\" , \"met\", \"with\", \"a\", \"terrible\", \"fate\", \"haven't\", \"you?\")  # This will correctly pass multiple strings\n",
    "print(result)  # Output: \"Hello world !\"\n",
    "print(result2) # Output: \"You've met with a terrible fate haven't you?\""
   ]
  },
  {
   "cell_type": "markdown",
   "metadata": {},
   "source": [
    "### **Functions in Python Assignment**\n",
    "\n",
    "## **Exercise 1: Defining and Calling Functions**\n",
    "\n",
    "Demonstrate your understanding of how to define and call functions in Python.\n",
    "\n",
    "* **Task 1.1:** Define a function named `square` that takes one parameter, `number`, and returns the square of that number. Call the function with a number of your choice and print the result.\n",
    "\n",
    "* **Task 1.2:** Create a function called `say_hello` that takes no parameters and simply prints `\"Hello, Python!\"` when called.\n",
    "\n",
    "## **Exercise 2: Working with Parameters and Return Values**\n",
    "\n",
    "Explore function parameters, arguments, and the importance of return values.\n",
    "\n",
    "* **Task 2.1:** Write a function named `add` that takes two parameters, `a` and `b`, adds them together, and returns the result. Call the function with two numbers as arguments and print the result.\n",
    "\n",
    "* **Task 2.2:** Define a function called `is_even` that takes a single parameter, `num`, and returns `True` if the number is even, and `False` otherwise. Demonstrate its use by printing the result of a call with an even and an odd number.\n",
    "\n",
    "## **Exercise 3: Default Parameters and Keyword Arguments**\n",
    "\n",
    "Understand how to use default parameters and keyword arguments in function calls.\n",
    "\n",
    "* **Task 3.1:** Define a function `greet_user` with one parameter, `name`, with a default value of `\"Guest\"`. The function should print a greeting message using the name. Call the function twice: first, without any arguments, and second, with a name of your choice.\n",
    "\n",
    "* **Task 3.2:** Create a function named `describe_animal` with two parameters: `animal_type` and `pet_name`. Print a description of the animal using these parameters. Call this function using keyword arguments to specify the name and type of your pet or a fictional animal.\n",
    "\n",
    "## **Additional Challenges**\n",
    "\n",
    "For more advanced practice:\n",
    "\n",
    "* **Challenge 1:** Write a function `max_of_three` that takes three numbers as arguments and returns the largest of them. Ensure your function works for a set of any three numbers.\n",
    "\n",
    "* **Challenge 2:** Implement a function `concat_strings` that takes an arbitrary number of strings (using `*args`) and concatenates them into a single string separated by spaces. Test your function with multiple strings.\n",
    "\n",
    "---\n",
    "\n",
    "### **Submission Guidelines**\n",
    "\n",
    "Please submit a Python file (.py) containing the implementations of all the tasks and challenges. Make sure your code is well-commented to explain the functionality of each function. Happy coding!"
   ]
  }
 ],
 "metadata": {
  "kernelspec": {
   "display_name": "Python 3",
   "language": "python",
   "name": "python3"
  },
  "language_info": {
   "codemirror_mode": {
    "name": "ipython",
    "version": 3
   },
   "file_extension": ".py",
   "mimetype": "text/x-python",
   "name": "python",
   "nbconvert_exporter": "python",
   "pygments_lexer": "ipython3",
   "version": "3.11.9"
  }
 },
 "nbformat": 4,
 "nbformat_minor": 2
}
