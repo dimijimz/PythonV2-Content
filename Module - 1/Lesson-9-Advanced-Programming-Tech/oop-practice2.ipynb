{
 "cells": [
  {
   "cell_type": "markdown",
   "metadata": {},
   "source": [
    "6. 📦 Composition vs Inheritance\n",
    "Implement two classes:\n",
    "\n",
    "Box with an attribute contents (a list).\n",
    "ColoredBox that adds a color attribute.\n",
    "First, implement ColoredBox using inheritance from Box. Then, implement ColoredBox using composition by having a Box instance as an attribute."
   ]
  },
  {
   "cell_type": "code",
   "execution_count": 17,
   "metadata": {},
   "outputs": [
    {
     "name": "stdout",
     "output_type": "stream",
     "text": [
      "['red']\n",
      "[]\n",
      "['hello']\n",
      "Blue\n"
     ]
    }
   ],
   "source": [
    "class Box:\n",
    "    def __init__(self):\n",
    "        self.contents = []\n",
    "    def get_content(self):\n",
    "        return self.contents\n",
    "    def set_content(self, x):\n",
    "        self.contents.append(x)\n",
    "\n",
    "class ColoredBox(Box):\n",
    "    def __init__(self, color):\n",
    "        super().__init__()\n",
    "        self.color = color\n",
    "    def get_color(self):\n",
    "        return self.color\n",
    "\n",
    "\n",
    "box2 = ColoredBox(\"Blue\")\n",
    "box2.set_content(\"red\")\n",
    "print(box2.get_content())\n",
    "\n",
    "box1 = Box()\n",
    "print(box1.get_content())\n",
    "\n",
    "box1.set_content(\"hello\")\n",
    "\n",
    "print(box1.get_content())\n",
    "\n",
    "print(box2.get_color())\n",
    "\n"
   ]
  }
 ],
 "metadata": {
  "kernelspec": {
   "display_name": "Python 3",
   "language": "python",
   "name": "python3"
  },
  "language_info": {
   "codemirror_mode": {
    "name": "ipython",
    "version": 3
   },
   "file_extension": ".py",
   "mimetype": "text/x-python",
   "name": "python",
   "nbconvert_exporter": "python",
   "pygments_lexer": "ipython3",
   "version": "3.11.9"
  }
 },
 "nbformat": 4,
 "nbformat_minor": 2
}
