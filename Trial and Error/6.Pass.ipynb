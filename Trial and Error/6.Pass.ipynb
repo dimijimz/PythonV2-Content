{
 "cells": [
  {
   "cell_type": "code",
   "execution_count": 5,
   "metadata": {},
   "outputs": [
    {
     "name": "stdout",
     "output_type": "stream",
     "text": [
      "There is no weather.\n"
     ]
    }
   ],
   "source": [
    "# Pass is a statement that tells the computer to do nothing.\n",
    "# Pass is useful in situations where you want to run a block of code, but don't want to execute it. (Usually on that would break the program.)\n",
    "weather = \"sunny\"\n",
    "\n",
    "if weather == \"sunny\":\n",
    "    pass\n",
    "elif weather == \"rainy\":\n",
    "    pass\n",
    "else:\n",
    "    print(\"There is no weather.\")\n"
   ]
  }
 ],
 "metadata": {
  "kernelspec": {
   "display_name": "Python 3",
   "language": "python",
   "name": "python3"
  },
  "language_info": {
   "codemirror_mode": {
    "name": "ipython",
    "version": 3
   },
   "file_extension": ".py",
   "mimetype": "text/x-python",
   "name": "python",
   "nbconvert_exporter": "python",
   "pygments_lexer": "ipython3",
   "version": "3.11.9"
  }
 },
 "nbformat": 4,
 "nbformat_minor": 2
}
