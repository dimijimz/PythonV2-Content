{
 "cells": [
  {
   "cell_type": "code",
   "execution_count": 1,
   "metadata": {},
   "outputs": [
    {
     "name": "stdout",
     "output_type": "stream",
     "text": [
      "2\n",
      "4\n",
      "8\n",
      "16\n",
      "32\n",
      "64\n",
      "128\n",
      "256\n",
      "512\n",
      "1024\n",
      "Recursion has ended.\n"
     ]
    }
   ],
   "source": [
    "# Recursion is when a function calls itself inside another function.\n",
    "def simple_recursion(number):\n",
    "    if number < 2000:\n",
    "      print(number)\n",
    "      simple_recursion(number * 2)\n",
    "    else:\n",
    "      print(\"Recursion has ended.\")\n",
    "\n",
    "simple_recursion(2)      "
   ]
  },
  {
   "cell_type": "code",
   "execution_count": 3,
   "metadata": {},
   "outputs": [
    {
     "name": "stdout",
     "output_type": "stream",
     "text": [
      "Trying to connect...\n",
      "Connection failed... Attemping again!\n",
      "Trying to connect...\n",
      "Connection failed... Attemping again!\n",
      "Trying to connect...\n",
      "Connection failed... Attemping again!\n",
      "...\n",
      "...\n",
      "Successfully connected to the internet!\n"
     ]
    }
   ],
   "source": [
    "# Real-world applications of recursion - shown usual for when an app needs to connect to the internet but keeps failing, eventually succeding.\n",
    "from time import sleep\n",
    "\n",
    "attempts = 0\n",
    "\n",
    "def connect_to_internet():\n",
    "    global attempts\n",
    "\n",
    "    if attempts < 3:\n",
    "        attempts += 1\n",
    "        print(\"Trying to connect...\")\n",
    "        sleep(2)\n",
    "        print(\"Connection failed... Attemping again!\")\n",
    "        sleep(1)\n",
    "        connect_to_internet()\n",
    "\n",
    "    else:\n",
    "        print(\"...\")\n",
    "        sleep(1)\n",
    "        print(\"...\")\n",
    "        sleep(1)\n",
    "        print(\"Successfully connected to the internet!\")\n",
    "\n",
    "connect_to_internet()        \n",
    "        "
   ]
  }
 ],
 "metadata": {
  "kernelspec": {
   "display_name": "Python 3",
   "language": "python",
   "name": "python3"
  },
  "language_info": {
   "codemirror_mode": {
    "name": "ipython",
    "version": 3
   },
   "file_extension": ".py",
   "mimetype": "text/x-python",
   "name": "python",
   "nbconvert_exporter": "python",
   "pygments_lexer": "ipython3",
   "version": "3.11.9"
  }
 },
 "nbformat": 4,
 "nbformat_minor": 2
}
