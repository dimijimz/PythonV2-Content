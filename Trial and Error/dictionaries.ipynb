{
 "cells": [
  {
   "cell_type": "code",
   "execution_count": 8,
   "metadata": {},
   "outputs": [
    {
     "name": "stdout",
     "output_type": "stream",
     "text": [
      "{'brand': 'Audi', 'model': 'A5', 'fronttires': 'Firestone', 'reartires': 'Firestone'}\n"
     ]
    }
   ],
   "source": [
    "car = {\n",
    "  \"brand\": \"Audi\",\n",
    "  \"model\": \"A5\",\n",
    "  \"fronttires\": \"Firestone\",\n",
    "  \"reartires\": \"Firestone\"\n",
    "}\n",
    "\n",
    "\n",
    "\n",
    "print(car)"
   ]
  }
 ],
 "metadata": {
  "kernelspec": {
   "display_name": "Python 3",
   "language": "python",
   "name": "python3"
  },
  "language_info": {
   "codemirror_mode": {
    "name": "ipython",
    "version": 3
   },
   "file_extension": ".py",
   "mimetype": "text/x-python",
   "name": "python",
   "nbconvert_exporter": "python",
   "pygments_lexer": "ipython3",
   "version": "3.11.9"
  }
 },
 "nbformat": 4,
 "nbformat_minor": 2
}
