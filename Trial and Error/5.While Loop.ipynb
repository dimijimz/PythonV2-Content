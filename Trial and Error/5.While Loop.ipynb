{
 "cells": [
  {
   "cell_type": "code",
   "execution_count": 2,
   "metadata": {},
   "outputs": [
    {
     "name": "stdout",
     "output_type": "stream",
     "text": [
      "Hello there!\n",
      "0\n",
      "Hello there!\n",
      "1\n",
      "Hello there!\n",
      "2\n"
     ]
    }
   ],
   "source": [
    "# While loops will run as long as a condition is True.\n",
    "number = 0\n",
    "\n",
    "while number < 3:\n",
    "    print(\"Hello there!\")\n",
    "    print(number)\n",
    "    number += 1"
   ]
  },
  {
   "cell_type": "code",
   "execution_count": 3,
   "metadata": {},
   "outputs": [
    {
     "name": "stdout",
     "output_type": "stream",
     "text": [
      "1 is odd!\n",
      "---\n",
      "3 is odd!\n",
      "---\n",
      "5 is odd!\n"
     ]
    }
   ],
   "source": [
    "#Another example\n",
    "\n",
    "number = 0\n",
    "\n",
    "while number < 5:\n",
    "    number += 1\n",
    "    if number % 2 == 0:\n",
    "        print(\"---\")\n",
    "        continue\n",
    "\n",
    "    print(number, \"is odd!\")"
   ]
  },
  {
   "cell_type": "code",
   "execution_count": 6,
   "metadata": {},
   "outputs": [
    {
     "name": "stdout",
     "output_type": "stream",
     "text": [
      "Total 47\n"
     ]
    }
   ],
   "source": [
    "#Small Calculator program for learning 'while loops'\n",
    "\n",
    "total = 0\n",
    "\n",
    "while True:\n",
    "    user_input = int(input(\"Enter a number:: \"))\n",
    "\n",
    "    if user_input == 0:\n",
    "        print(\"Total\" , total)\n",
    "        break\n",
    "    else:\n",
    "        total += user_input"
   ]
  }
 ],
 "metadata": {
  "kernelspec": {
   "display_name": "Python 3",
   "language": "python",
   "name": "python3"
  },
  "language_info": {
   "codemirror_mode": {
    "name": "ipython",
    "version": 3
   },
   "file_extension": ".py",
   "mimetype": "text/x-python",
   "name": "python",
   "nbconvert_exporter": "python",
   "pygments_lexer": "ipython3",
   "version": "3.11.9"
  }
 },
 "nbformat": 4,
 "nbformat_minor": 2
}
