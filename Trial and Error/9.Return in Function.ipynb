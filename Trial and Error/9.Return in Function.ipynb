{
 "cells": [
  {
   "cell_type": "code",
   "execution_count": 5,
   "metadata": {},
   "outputs": [
    {
     "name": "stdout",
     "output_type": "stream",
     "text": [
      "The Value is 30,and if its even: True\n"
     ]
    }
   ],
   "source": [
    "# Return in Function\n",
    "# The return keyword is used to end the execution of the function.\n",
    "# Here is an example of the return statement in a function:\n",
    "\n",
    "def add_numbers(a, b):\n",
    "    value = a + b\n",
    "    return value\n",
    "\n",
    "def number_checker(number):\n",
    "    return True if number % 2 == 0 else False    \n",
    "\n",
    "value = add_numbers(10, 20)\n",
    "is_even = number_checker(value)\n",
    "\n",
    "print(f\"The Value is {value},and if its even: {is_even}\")"
   ]
  }
 ],
 "metadata": {
  "kernelspec": {
   "display_name": "Python 3",
   "language": "python",
   "name": "python3"
  },
  "language_info": {
   "codemirror_mode": {
    "name": "ipython",
    "version": 3
   },
   "file_extension": ".py",
   "mimetype": "text/x-python",
   "name": "python",
   "nbconvert_exporter": "python",
   "pygments_lexer": "ipython3",
   "version": "3.11.9"
  }
 },
 "nbformat": 4,
 "nbformat_minor": 2
}
