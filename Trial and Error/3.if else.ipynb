{
 "cells": [
  {
   "cell_type": "code",
   "execution_count": 4,
   "metadata": {},
   "outputs": [
    {
     "name": "stdout",
     "output_type": "stream",
     "text": [
      "You entered 11 characters.\n",
      "Ah! You have some potential in typing!\n"
     ]
    }
   ],
   "source": [
    "# If and Else Statements Example\n",
    "user_input = input(\"Enter some text: \")\n",
    "total_char = len(user_input)\n",
    "\n",
    "print(f\"You entered {total_char} characters.\")\n",
    "\n",
    "if total_char <= 10:\n",
    "    print(\"You didn't write much..\")\n",
    "elif 10 < total_char <= 30:\n",
    "    print(\"Ah! You have some potential in typing!\")\n",
    "elif total_char > 30:\n",
    "    print(\"You should consider becoming a professional typist!\")        "
   ]
  },
  {
   "cell_type": "code",
   "execution_count": 6,
   "metadata": {},
   "outputs": [
    {
     "name": "stdout",
     "output_type": "stream",
     "text": [
      "Nice weather today!\n"
     ]
    }
   ],
   "source": [
    "#Else Statements Example\n",
    "\n",
    "weather = \"sunny\"\n",
    "\n",
    "if weather == \"sunny\":\n",
    "    print(\"Nice weather today!\")\n",
    "elif weather == \"cloudy\":\n",
    "    print(\"It's a bit cloudy today.\")\n",
    "else:\n",
    "    print(\"The weather is bad today...\")        "
   ]
  }
 ],
 "metadata": {
  "kernelspec": {
   "display_name": "Python 3",
   "language": "python",
   "name": "python3"
  },
  "language_info": {
   "codemirror_mode": {
    "name": "ipython",
    "version": 3
   },
   "file_extension": ".py",
   "mimetype": "text/x-python",
   "name": "python",
   "nbconvert_exporter": "python",
   "pygments_lexer": "ipython3",
   "version": "3.11.9"
  }
 },
 "nbformat": 4,
 "nbformat_minor": 2
}
