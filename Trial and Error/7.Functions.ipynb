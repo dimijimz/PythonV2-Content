{
 "cells": [
  {
   "cell_type": "code",
   "execution_count": 25,
   "metadata": {},
   "outputs": [
    {
     "name": "stdout",
     "output_type": "stream",
     "text": [
      "Hello Dimitri!\n",
      "Hello Link!\n",
      "Hello Zelda!\n",
      "--------\n",
      "The total of 2 + 4 + 6 is: 12\n",
      "The total of 1 + 2 + 3 is: 6\n",
      "The total of -100 + 3023 + 69 is: 2992\n"
     ]
    }
   ],
   "source": [
    "# This is a function. Here we are defining the 'say hello' function and wraping it in a name parameter.\n",
    "def say_hello(name):\n",
    "    #Writing \"\"\" is a docstring that describes the function when you hover over the functions name with your mouse in the editor.\n",
    "    \"\"\"This function says hello to the user.\"\"\"\n",
    "    # This is the print statement that calls for the function to print the name that we will later define.\n",
    "    print(f\"Hello {name}!\")\n",
    "\n",
    "say_hello(\"Dimitri\")\n",
    "say_hello(\"Link\")\n",
    "say_hello(\"Zelda\")\n",
    "\n",
    "#terminal break\n",
    "print(\"--------\")\n",
    "\n",
    "# Function to calculate the total of A + B + C (The numbers or whatever you want to add together,\n",
    "# which can easily be called for later!\n",
    "def calculate(a, b, c):\n",
    "    total = a + b + c\n",
    "    print(f\"The total of {a} + {b} + {c} is: {total}\")\n",
    "\n",
    "    #Now that we have defined this function as calculate, we can call it like this:\n",
    "calculate(2, 4, 6)\n",
    "calculate(1, 2, 3)\n",
    "calculate(-100,3023, 69)\n",
    "\n",
    "    \n",
    "    "
   ]
  }
 ],
 "metadata": {
  "kernelspec": {
   "display_name": "Python 3",
   "language": "python",
   "name": "python3"
  },
  "language_info": {
   "codemirror_mode": {
    "name": "ipython",
    "version": 3
   },
   "file_extension": ".py",
   "mimetype": "text/x-python",
   "name": "python",
   "nbconvert_exporter": "python",
   "pygments_lexer": "ipython3",
   "version": "3.11.9"
  }
 },
 "nbformat": 4,
 "nbformat_minor": 2
}
