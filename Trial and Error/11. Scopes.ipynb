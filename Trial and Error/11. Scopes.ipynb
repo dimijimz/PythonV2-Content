{
 "cells": [
  {
   "cell_type": "code",
   "execution_count": 4,
   "metadata": {},
   "outputs": [
    {
     "name": "stdout",
     "output_type": "stream",
     "text": [
      "1\n",
      "2\n",
      "3\n"
     ]
    }
   ],
   "source": [
    "number = 0\n",
    "\n",
    "def add_one():\n",
    "    global number #this is a global value that will override the local value. Without this, the local value will be used.\n",
    "    number += 1\n",
    "    print(number)\n",
    "\n",
    "add_one()\n",
    "add_one()\n",
    "add_one()"
   ]
  },
  {
   "cell_type": "code",
   "execution_count": 8,
   "metadata": {},
   "outputs": [
    {
     "name": "stdout",
     "output_type": "stream",
     "text": [
      "do something\n",
      "do something\n"
     ]
    }
   ],
   "source": [
    "text = \"hello\"\n",
    "\n",
    "def do_something():\n",
    "    global text #this is a global value that will override the local value. Without this, the local value will be used.\n",
    "    text = \"do something\"\n",
    "    print(text)\n",
    "\n",
    "do_something()\n",
    "print(text)    "
   ]
  }
 ],
 "metadata": {
  "kernelspec": {
   "display_name": "Python 3",
   "language": "python",
   "name": "python3"
  },
  "language_info": {
   "codemirror_mode": {
    "name": "ipython",
    "version": 3
   },
   "file_extension": ".py",
   "mimetype": "text/x-python",
   "name": "python",
   "nbconvert_exporter": "python",
   "pygments_lexer": "ipython3",
   "version": "3.11.9"
  }
 },
 "nbformat": 4,
 "nbformat_minor": 2
}
